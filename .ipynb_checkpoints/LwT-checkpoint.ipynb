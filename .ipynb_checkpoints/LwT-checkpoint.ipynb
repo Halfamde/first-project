{
 "cells": [
  {
   "cell_type": "markdown",
   "metadata": {},
   "source": [
    "\n",
    "\n",
    "[Ссылка на проект на GitHub]( https://github.com/Halfamde/first-project)\n"
   ]
  },
  {
   "cell_type": "markdown",
   "metadata": {},
   "source": [
    "___"
   ]
  },
  {
   "cell_type": "markdown",
   "metadata": {
    "toc": true
   },
   "source": [
    "<h1>Содержание<span class=\"tocSkip\"></span></h1>\n",
    "<div class=\"toc\"><ul class=\"toc-item\"><li><span><a href=\"#Подготовка-данных\" data-toc-modified-id=\"Подготовка-данных-1\"><span class=\"toc-item-num\">1&nbsp;&nbsp;</span>Подготовка данных</a></span><ul class=\"toc-item\"><li><span><a href=\"#Загрузка-и-изучение-даннных\" data-toc-modified-id=\"Загрузка-и-изучение-даннных-1.1\"><span class=\"toc-item-num\">1.1&nbsp;&nbsp;</span>Загрузка и изучение даннных</a></span></li></ul></li><li><span><a href=\"#Исследование-задачи\" data-toc-modified-id=\"Исследование-задачи-2\"><span class=\"toc-item-num\">2&nbsp;&nbsp;</span>Исследование задачи</a></span><ul class=\"toc-item\"><li><span><a href=\"#Подготовка-данных-для-машинного-обучения\" data-toc-modified-id=\"Подготовка-данных-для-машинного-обучения-2.1\"><span class=\"toc-item-num\">2.1&nbsp;&nbsp;</span>Подготовка данных для машинного обучения</a></span></li><li><span><a href=\"#Сформируем-выборки\" data-toc-modified-id=\"Сформируем-выборки-2.2\"><span class=\"toc-item-num\">2.2&nbsp;&nbsp;</span>Сформируем выборки</a></span></li><li><span><a href=\"#Применение-модели-машинного-обучения\" data-toc-modified-id=\"Применение-модели-машинного-обучения-2.3\"><span class=\"toc-item-num\">2.3&nbsp;&nbsp;</span>Применение модели машинного обучения</a></span></li></ul></li><li><span><a href=\"#Борьба-с-дисбалансом\" data-toc-modified-id=\"Борьба-с-дисбалансом-3\"><span class=\"toc-item-num\">3&nbsp;&nbsp;</span>Борьба с дисбалансом</a></span></li><li><span><a href=\"#Тестирование-модели\" data-toc-modified-id=\"Тестирование-модели-4\"><span class=\"toc-item-num\">4&nbsp;&nbsp;</span>Тестирование модели</a></span></li><li><span><a href=\"#Чек-лист-готовности-проекта\" data-toc-modified-id=\"Чек-лист-готовности-проекта-5\"><span class=\"toc-item-num\">5&nbsp;&nbsp;</span>Чек-лист готовности проекта</a></span></li></ul></div>"
   ]
  },
  {
   "cell_type": "markdown",
   "metadata": {},
   "source": [
    "# Отток клиентов"
   ]
  },
  {
   "cell_type": "markdown",
   "metadata": {},
   "source": [
    "Из «Бета-Банка» стали уходить клиенты. Каждый месяц. Немного, но заметно. Банковские маркетологи посчитали: сохранять текущих клиентов дешевле, чем привлекать новых.\n",
    "\n",
    "Нужно спрогнозировать, уйдёт клиент из банка в ближайшее время или нет. Вам предоставлены исторические данные о поведении клиентов и расторжении договоров с банком. \n",
    "\n",
    "Постройте модель с предельно большим значением *F1*-меры. Чтобы сдать проект успешно, нужно довести метрику до 0.59. Проверьте *F1*-меру на тестовой выборке самостоятельно.\n",
    "\n",
    "Дополнительно измеряйте *AUC-ROC*, сравнивайте её значение с *F1*-мерой.\n",
    "\n",
    "Источник данных: [https://www.kaggle.com/barelydedicated/bank-customer-churn-modeling](https://www.kaggle.com/barelydedicated/bank-customer-churn-modeling)"
   ]
  },
  {
   "cell_type": "markdown",
   "metadata": {},
   "source": [
    "## Подготовка данных"
   ]
  },
  {
   "cell_type": "markdown",
   "metadata": {},
   "source": [
    "### Загрузка и изучение даннных"
   ]
  },
  {
   "cell_type": "code",
   "execution_count": 1,
   "metadata": {
    "scrolled": false
   },
   "outputs": [
    {
     "name": "stdout",
     "output_type": "stream",
     "text": [
      "Requirement already satisfied: scikit-learn in /opt/conda/lib/python3.9/site-packages (0.24.1)\n",
      "Requirement already satisfied: scipy>=0.19.1 in /opt/conda/lib/python3.9/site-packages (from scikit-learn) (1.9.1)\n",
      "Requirement already satisfied: numpy>=1.13.3 in /opt/conda/lib/python3.9/site-packages (from scikit-learn) (1.21.1)\n",
      "Requirement already satisfied: threadpoolctl>=2.0.0 in /opt/conda/lib/python3.9/site-packages (from scikit-learn) (3.1.0)\n",
      "Requirement already satisfied: joblib>=0.11 in /opt/conda/lib/python3.9/site-packages (from scikit-learn) (1.1.0)\n",
      "Requirement already satisfied: matplotlib in /opt/conda/lib/python3.9/site-packages (3.3.4)\n",
      "Requirement already satisfied: numpy>=1.15 in /opt/conda/lib/python3.9/site-packages (from matplotlib) (1.21.1)\n",
      "Requirement already satisfied: pyparsing!=2.0.4,!=2.1.2,!=2.1.6,>=2.0.3 in /opt/conda/lib/python3.9/site-packages (from matplotlib) (2.4.7)\n",
      "Requirement already satisfied: kiwisolver>=1.0.1 in /opt/conda/lib/python3.9/site-packages (from matplotlib) (1.4.4)\n",
      "Requirement already satisfied: python-dateutil>=2.1 in /opt/conda/lib/python3.9/site-packages (from matplotlib) (2.8.1)\n",
      "Requirement already satisfied: cycler>=0.10 in /opt/conda/lib/python3.9/site-packages (from matplotlib) (0.11.0)\n",
      "Requirement already satisfied: pillow>=6.2.0 in /opt/conda/lib/python3.9/site-packages (from matplotlib) (8.4.0)\n",
      "Requirement already satisfied: six>=1.5 in /opt/conda/lib/python3.9/site-packages (from python-dateutil>=2.1->matplotlib) (1.16.0)\n"
     ]
    }
   ],
   "source": [
    "!pip install scikit-learn\n",
    "!pip install matplotlib"
   ]
  },
  {
   "cell_type": "code",
   "execution_count": 2,
   "metadata": {},
   "outputs": [],
   "source": [
    "import warnings\n",
    "import pandas as pd\n",
    "import time\n",
    "import matplotlib.pyplot as plt\n",
    "from sklearn.model_selection import train_test_split\n",
    "from sklearn.preprocessing import StandardScaler\n",
    "from sklearn.tree import DecisionTreeClassifier\n",
    "from sklearn.ensemble import RandomForestClassifier\n",
    "from sklearn.linear_model import LogisticRegression\n",
    "from sklearn.metrics import accuracy_score\n",
    "from sklearn.metrics import precision_score\n",
    "from sklearn.metrics import recall_score\n",
    "from sklearn.metrics import f1_score\n",
    "from sklearn.metrics import roc_auc_score\n",
    "from sklearn.utils import resample\n",
    "from sklearn.metrics import roc_curve"
   ]
  },
  {
   "cell_type": "code",
   "execution_count": 3,
   "metadata": {},
   "outputs": [],
   "source": [
    "# Отключение предупреждений SettingWithCopyWarning\n",
    "warnings.filterwarnings(\"ignore\", category=pd.core.common.SettingWithCopyWarning)\n"
   ]
  },
  {
   "cell_type": "code",
   "execution_count": 4,
   "metadata": {},
   "outputs": [],
   "source": [
    "# Загрузка данных из CSV файла\n",
    "data = pd.read_csv('/datasets/Churn.csv')"
   ]
  },
  {
   "cell_type": "code",
   "execution_count": 5,
   "metadata": {},
   "outputs": [
    {
     "data": {
      "text/html": [
       "<div>\n",
       "<style scoped>\n",
       "    .dataframe tbody tr th:only-of-type {\n",
       "        vertical-align: middle;\n",
       "    }\n",
       "\n",
       "    .dataframe tbody tr th {\n",
       "        vertical-align: top;\n",
       "    }\n",
       "\n",
       "    .dataframe thead th {\n",
       "        text-align: right;\n",
       "    }\n",
       "</style>\n",
       "<table border=\"1\" class=\"dataframe\">\n",
       "  <thead>\n",
       "    <tr style=\"text-align: right;\">\n",
       "      <th></th>\n",
       "      <th>RowNumber</th>\n",
       "      <th>CustomerId</th>\n",
       "      <th>Surname</th>\n",
       "      <th>CreditScore</th>\n",
       "      <th>Geography</th>\n",
       "      <th>Gender</th>\n",
       "      <th>Age</th>\n",
       "      <th>Tenure</th>\n",
       "      <th>Balance</th>\n",
       "      <th>NumOfProducts</th>\n",
       "      <th>HasCrCard</th>\n",
       "      <th>IsActiveMember</th>\n",
       "      <th>EstimatedSalary</th>\n",
       "      <th>Exited</th>\n",
       "    </tr>\n",
       "  </thead>\n",
       "  <tbody>\n",
       "    <tr>\n",
       "      <th>1874</th>\n",
       "      <td>1875</td>\n",
       "      <td>15590268</td>\n",
       "      <td>Chu</td>\n",
       "      <td>529</td>\n",
       "      <td>Spain</td>\n",
       "      <td>Male</td>\n",
       "      <td>35</td>\n",
       "      <td>5.0</td>\n",
       "      <td>95772.97</td>\n",
       "      <td>1</td>\n",
       "      <td>1</td>\n",
       "      <td>1</td>\n",
       "      <td>112781.50</td>\n",
       "      <td>0</td>\n",
       "    </tr>\n",
       "    <tr>\n",
       "      <th>999</th>\n",
       "      <td>1000</td>\n",
       "      <td>15787772</td>\n",
       "      <td>Hansen</td>\n",
       "      <td>759</td>\n",
       "      <td>France</td>\n",
       "      <td>Female</td>\n",
       "      <td>38</td>\n",
       "      <td>1.0</td>\n",
       "      <td>104091.29</td>\n",
       "      <td>1</td>\n",
       "      <td>0</td>\n",
       "      <td>0</td>\n",
       "      <td>91561.91</td>\n",
       "      <td>0</td>\n",
       "    </tr>\n",
       "    <tr>\n",
       "      <th>1651</th>\n",
       "      <td>1652</td>\n",
       "      <td>15585067</td>\n",
       "      <td>Wilson</td>\n",
       "      <td>634</td>\n",
       "      <td>Spain</td>\n",
       "      <td>Male</td>\n",
       "      <td>31</td>\n",
       "      <td>9.0</td>\n",
       "      <td>108632.48</td>\n",
       "      <td>1</td>\n",
       "      <td>1</td>\n",
       "      <td>1</td>\n",
       "      <td>179485.96</td>\n",
       "      <td>1</td>\n",
       "    </tr>\n",
       "    <tr>\n",
       "      <th>1844</th>\n",
       "      <td>1845</td>\n",
       "      <td>15699634</td>\n",
       "      <td>Howard</td>\n",
       "      <td>667</td>\n",
       "      <td>France</td>\n",
       "      <td>Female</td>\n",
       "      <td>48</td>\n",
       "      <td>2.0</td>\n",
       "      <td>0.00</td>\n",
       "      <td>2</td>\n",
       "      <td>1</td>\n",
       "      <td>1</td>\n",
       "      <td>148608.39</td>\n",
       "      <td>0</td>\n",
       "    </tr>\n",
       "    <tr>\n",
       "      <th>355</th>\n",
       "      <td>356</td>\n",
       "      <td>15739438</td>\n",
       "      <td>Reed</td>\n",
       "      <td>539</td>\n",
       "      <td>France</td>\n",
       "      <td>Male</td>\n",
       "      <td>30</td>\n",
       "      <td>NaN</td>\n",
       "      <td>0.00</td>\n",
       "      <td>2</td>\n",
       "      <td>1</td>\n",
       "      <td>0</td>\n",
       "      <td>160979.66</td>\n",
       "      <td>0</td>\n",
       "    </tr>\n",
       "  </tbody>\n",
       "</table>\n",
       "</div>"
      ],
      "text/plain": [
       "      RowNumber  CustomerId Surname  CreditScore Geography  Gender  Age  \\\n",
       "1874       1875    15590268     Chu          529     Spain    Male   35   \n",
       "999        1000    15787772  Hansen          759    France  Female   38   \n",
       "1651       1652    15585067  Wilson          634     Spain    Male   31   \n",
       "1844       1845    15699634  Howard          667    France  Female   48   \n",
       "355         356    15739438    Reed          539    France    Male   30   \n",
       "\n",
       "      Tenure    Balance  NumOfProducts  HasCrCard  IsActiveMember  \\\n",
       "1874     5.0   95772.97              1          1               1   \n",
       "999      1.0  104091.29              1          0               0   \n",
       "1651     9.0  108632.48              1          1               1   \n",
       "1844     2.0       0.00              2          1               1   \n",
       "355      NaN       0.00              2          1               0   \n",
       "\n",
       "      EstimatedSalary  Exited  \n",
       "1874        112781.50       0  \n",
       "999          91561.91       0  \n",
       "1651        179485.96       1  \n",
       "1844        148608.39       0  \n",
       "355         160979.66       0  "
      ]
     },
     "execution_count": 5,
     "metadata": {},
     "output_type": "execute_result"
    }
   ],
   "source": [
    "# Вывод нескольких строк данных для ознакомления\n",
    "data.sample(5)"
   ]
  },
  {
   "cell_type": "code",
   "execution_count": 6,
   "metadata": {
    "scrolled": false
   },
   "outputs": [
    {
     "name": "stdout",
     "output_type": "stream",
     "text": [
      "<class 'pandas.core.frame.DataFrame'>\n",
      "RangeIndex: 10000 entries, 0 to 9999\n",
      "Data columns (total 14 columns):\n",
      " #   Column           Non-Null Count  Dtype  \n",
      "---  ------           --------------  -----  \n",
      " 0   RowNumber        10000 non-null  int64  \n",
      " 1   CustomerId       10000 non-null  int64  \n",
      " 2   Surname          10000 non-null  object \n",
      " 3   CreditScore      10000 non-null  int64  \n",
      " 4   Geography        10000 non-null  object \n",
      " 5   Gender           10000 non-null  object \n",
      " 6   Age              10000 non-null  int64  \n",
      " 7   Tenure           9091 non-null   float64\n",
      " 8   Balance          10000 non-null  float64\n",
      " 9   NumOfProducts    10000 non-null  int64  \n",
      " 10  HasCrCard        10000 non-null  int64  \n",
      " 11  IsActiveMember   10000 non-null  int64  \n",
      " 12  EstimatedSalary  10000 non-null  float64\n",
      " 13  Exited           10000 non-null  int64  \n",
      "dtypes: float64(3), int64(8), object(3)\n",
      "memory usage: 1.1+ MB\n"
     ]
    }
   ],
   "source": [
    "# Вывод информации о типах данных и наличии пропущенных значений\n",
    "data.info()"
   ]
  },
  {
   "cell_type": "markdown",
   "metadata": {},
   "source": [
    "В данном датасете 13 признако, целевой признак, 10000 строк.\n",
    "\n",
    "- RowNumber — индекс строки в данных\n",
    "- CustomerId — уникальный идентификатор клиента\n",
    "- Surname — фамилия\n",
    "- CreditScore — кредитный рейтинг\n",
    "- Geography — страна проживания\n",
    "- Gender — пол\n",
    "- Age — возраст\n",
    "- Tenure — сколько лет человек является клиентом банка\n",
    "- Balance — баланс на счёте\n",
    "- NumOfProducts — количество продуктов банка, используемых клиентом\n",
    "- HasCrCard — наличие кредитной карты\n",
    "- IsActiveMember — активность клиента\n",
    "- EstimatedSalary — предполагаемая зарплата\n",
    "\n",
    "Целевой признак:\n",
    "- <b>Exited</b> — факт ухода клиента"
   ]
  },
  {
   "cell_type": "code",
   "execution_count": 7,
   "metadata": {},
   "outputs": [
    {
     "data": {
      "text/html": [
       "<div>\n",
       "<style scoped>\n",
       "    .dataframe tbody tr th:only-of-type {\n",
       "        vertical-align: middle;\n",
       "    }\n",
       "\n",
       "    .dataframe tbody tr th {\n",
       "        vertical-align: top;\n",
       "    }\n",
       "\n",
       "    .dataframe thead th {\n",
       "        text-align: right;\n",
       "    }\n",
       "</style>\n",
       "<table border=\"1\" class=\"dataframe\">\n",
       "  <thead>\n",
       "    <tr style=\"text-align: right;\">\n",
       "      <th></th>\n",
       "      <th>RowNumber</th>\n",
       "      <th>CustomerId</th>\n",
       "      <th>CreditScore</th>\n",
       "      <th>Age</th>\n",
       "      <th>Tenure</th>\n",
       "      <th>Balance</th>\n",
       "      <th>NumOfProducts</th>\n",
       "      <th>HasCrCard</th>\n",
       "      <th>IsActiveMember</th>\n",
       "      <th>EstimatedSalary</th>\n",
       "      <th>Exited</th>\n",
       "    </tr>\n",
       "  </thead>\n",
       "  <tbody>\n",
       "    <tr>\n",
       "      <th>count</th>\n",
       "      <td>10000.00000</td>\n",
       "      <td>1.000000e+04</td>\n",
       "      <td>10000.000000</td>\n",
       "      <td>10000.000000</td>\n",
       "      <td>9091.000000</td>\n",
       "      <td>10000.000000</td>\n",
       "      <td>10000.000000</td>\n",
       "      <td>10000.00000</td>\n",
       "      <td>10000.000000</td>\n",
       "      <td>10000.000000</td>\n",
       "      <td>10000.000000</td>\n",
       "    </tr>\n",
       "    <tr>\n",
       "      <th>mean</th>\n",
       "      <td>5000.50000</td>\n",
       "      <td>1.569094e+07</td>\n",
       "      <td>650.528800</td>\n",
       "      <td>38.921800</td>\n",
       "      <td>4.997690</td>\n",
       "      <td>76485.889288</td>\n",
       "      <td>1.530200</td>\n",
       "      <td>0.70550</td>\n",
       "      <td>0.515100</td>\n",
       "      <td>100090.239881</td>\n",
       "      <td>0.203700</td>\n",
       "    </tr>\n",
       "    <tr>\n",
       "      <th>std</th>\n",
       "      <td>2886.89568</td>\n",
       "      <td>7.193619e+04</td>\n",
       "      <td>96.653299</td>\n",
       "      <td>10.487806</td>\n",
       "      <td>2.894723</td>\n",
       "      <td>62397.405202</td>\n",
       "      <td>0.581654</td>\n",
       "      <td>0.45584</td>\n",
       "      <td>0.499797</td>\n",
       "      <td>57510.492818</td>\n",
       "      <td>0.402769</td>\n",
       "    </tr>\n",
       "    <tr>\n",
       "      <th>min</th>\n",
       "      <td>1.00000</td>\n",
       "      <td>1.556570e+07</td>\n",
       "      <td>350.000000</td>\n",
       "      <td>18.000000</td>\n",
       "      <td>0.000000</td>\n",
       "      <td>0.000000</td>\n",
       "      <td>1.000000</td>\n",
       "      <td>0.00000</td>\n",
       "      <td>0.000000</td>\n",
       "      <td>11.580000</td>\n",
       "      <td>0.000000</td>\n",
       "    </tr>\n",
       "    <tr>\n",
       "      <th>25%</th>\n",
       "      <td>2500.75000</td>\n",
       "      <td>1.562853e+07</td>\n",
       "      <td>584.000000</td>\n",
       "      <td>32.000000</td>\n",
       "      <td>2.000000</td>\n",
       "      <td>0.000000</td>\n",
       "      <td>1.000000</td>\n",
       "      <td>0.00000</td>\n",
       "      <td>0.000000</td>\n",
       "      <td>51002.110000</td>\n",
       "      <td>0.000000</td>\n",
       "    </tr>\n",
       "    <tr>\n",
       "      <th>50%</th>\n",
       "      <td>5000.50000</td>\n",
       "      <td>1.569074e+07</td>\n",
       "      <td>652.000000</td>\n",
       "      <td>37.000000</td>\n",
       "      <td>5.000000</td>\n",
       "      <td>97198.540000</td>\n",
       "      <td>1.000000</td>\n",
       "      <td>1.00000</td>\n",
       "      <td>1.000000</td>\n",
       "      <td>100193.915000</td>\n",
       "      <td>0.000000</td>\n",
       "    </tr>\n",
       "    <tr>\n",
       "      <th>75%</th>\n",
       "      <td>7500.25000</td>\n",
       "      <td>1.575323e+07</td>\n",
       "      <td>718.000000</td>\n",
       "      <td>44.000000</td>\n",
       "      <td>7.000000</td>\n",
       "      <td>127644.240000</td>\n",
       "      <td>2.000000</td>\n",
       "      <td>1.00000</td>\n",
       "      <td>1.000000</td>\n",
       "      <td>149388.247500</td>\n",
       "      <td>0.000000</td>\n",
       "    </tr>\n",
       "    <tr>\n",
       "      <th>max</th>\n",
       "      <td>10000.00000</td>\n",
       "      <td>1.581569e+07</td>\n",
       "      <td>850.000000</td>\n",
       "      <td>92.000000</td>\n",
       "      <td>10.000000</td>\n",
       "      <td>250898.090000</td>\n",
       "      <td>4.000000</td>\n",
       "      <td>1.00000</td>\n",
       "      <td>1.000000</td>\n",
       "      <td>199992.480000</td>\n",
       "      <td>1.000000</td>\n",
       "    </tr>\n",
       "  </tbody>\n",
       "</table>\n",
       "</div>"
      ],
      "text/plain": [
       "         RowNumber    CustomerId   CreditScore           Age       Tenure  \\\n",
       "count  10000.00000  1.000000e+04  10000.000000  10000.000000  9091.000000   \n",
       "mean    5000.50000  1.569094e+07    650.528800     38.921800     4.997690   \n",
       "std     2886.89568  7.193619e+04     96.653299     10.487806     2.894723   \n",
       "min        1.00000  1.556570e+07    350.000000     18.000000     0.000000   \n",
       "25%     2500.75000  1.562853e+07    584.000000     32.000000     2.000000   \n",
       "50%     5000.50000  1.569074e+07    652.000000     37.000000     5.000000   \n",
       "75%     7500.25000  1.575323e+07    718.000000     44.000000     7.000000   \n",
       "max    10000.00000  1.581569e+07    850.000000     92.000000    10.000000   \n",
       "\n",
       "             Balance  NumOfProducts    HasCrCard  IsActiveMember  \\\n",
       "count   10000.000000   10000.000000  10000.00000    10000.000000   \n",
       "mean    76485.889288       1.530200      0.70550        0.515100   \n",
       "std     62397.405202       0.581654      0.45584        0.499797   \n",
       "min         0.000000       1.000000      0.00000        0.000000   \n",
       "25%         0.000000       1.000000      0.00000        0.000000   \n",
       "50%     97198.540000       1.000000      1.00000        1.000000   \n",
       "75%    127644.240000       2.000000      1.00000        1.000000   \n",
       "max    250898.090000       4.000000      1.00000        1.000000   \n",
       "\n",
       "       EstimatedSalary        Exited  \n",
       "count     10000.000000  10000.000000  \n",
       "mean     100090.239881      0.203700  \n",
       "std       57510.492818      0.402769  \n",
       "min          11.580000      0.000000  \n",
       "25%       51002.110000      0.000000  \n",
       "50%      100193.915000      0.000000  \n",
       "75%      149388.247500      0.000000  \n",
       "max      199992.480000      1.000000  "
      ]
     },
     "execution_count": 7,
     "metadata": {},
     "output_type": "execute_result"
    }
   ],
   "source": [
    "data.describe()"
   ]
  },
  {
   "cell_type": "code",
   "execution_count": 8,
   "metadata": {},
   "outputs": [
    {
     "data": {
      "text/plain": [
       "RowNumber            0\n",
       "CustomerId           0\n",
       "Surname              0\n",
       "CreditScore          0\n",
       "Geography            0\n",
       "Gender               0\n",
       "Age                  0\n",
       "Tenure             909\n",
       "Balance              0\n",
       "NumOfProducts        0\n",
       "HasCrCard            0\n",
       "IsActiveMember       0\n",
       "EstimatedSalary      0\n",
       "Exited               0\n",
       "dtype: int64"
      ]
     },
     "execution_count": 8,
     "metadata": {},
     "output_type": "execute_result"
    }
   ],
   "source": [
    "data.isna().sum()"
   ]
  },
  {
   "cell_type": "markdown",
   "metadata": {},
   "source": [
    "В столбце Tenure наблюдается 909 прорусков. Заполним пропуски нулями."
   ]
  },
  {
   "cell_type": "code",
   "execution_count": 10,
   "metadata": {},
   "outputs": [
    {
     "data": {
      "text/plain": [
       "count    9091.000000\n",
       "mean        4.997690\n",
       "std         2.894723\n",
       "min         0.000000\n",
       "25%         2.000000\n",
       "50%         5.000000\n",
       "75%         7.000000\n",
       "max        10.000000\n",
       "Name: Tenure, dtype: float64"
      ]
     },
     "execution_count": 10,
     "metadata": {},
     "output_type": "execute_result"
    }
   ],
   "source": [
    "# Выведит сводку статистических характеристик для столбца 'Tenure'\n",
    "data['Tenure'].describe()"
   ]
  },
  {
   "cell_type": "markdown",
   "metadata": {},
   "source": [
    "Из предоставленных статистических характеристик для столбца 'Tenure' мы видим:\n",
    "\n",
    " - Минимальное значение (min) составляет 0, а 25-й процентиль (25%) равен 2. Это указывает на возможность того, что некоторые клиенты имеют продолжительность нахождения в компании равную 0 или очень низкую. Возможно, эти клиенты новые или у них не было времени на активное использование услуг компании. Исходя из этого, можно предположить, что пропущенные значения в столбце `Tenure` могут быть заполнены нулями или небольшими значениями.\n",
    "\n",
    "- Среднее значение (mean) составляет примерно 5, а медиана (50%) равна 5. Это указывает на то, что продолжительность нахождения клиентов в компании имеет относительно равномерное распределение вокруг среднего значения. Таким образом, другим вариантом для заполнения пропусков может быть использование среднего значения или медианы, чтобы сохранить общую среднюю продолжительность нахождения клиентов."
   ]
  },
  {
   "cell_type": "code",
   "execution_count": 11,
   "metadata": {},
   "outputs": [],
   "source": [
    "# Заменить пропуски на медианное значение\n",
    "data['Tenure'] = data['Tenure'].fillna(data.Tenure.median())"
   ]
  },
  {
   "cell_type": "code",
   "execution_count": 12,
   "metadata": {
    "scrolled": true
   },
   "outputs": [
    {
     "data": {
      "text/plain": [
       "RowNumber          0\n",
       "CustomerId         0\n",
       "Surname            0\n",
       "CreditScore        0\n",
       "Geography          0\n",
       "Gender             0\n",
       "Age                0\n",
       "Tenure             0\n",
       "Balance            0\n",
       "NumOfProducts      0\n",
       "HasCrCard          0\n",
       "IsActiveMember     0\n",
       "EstimatedSalary    0\n",
       "Exited             0\n",
       "dtype: int64"
      ]
     },
     "execution_count": 12,
     "metadata": {},
     "output_type": "execute_result"
    }
   ],
   "source": [
    "data.isna().sum()"
   ]
  },
  {
   "cell_type": "code",
   "execution_count": 13,
   "metadata": {},
   "outputs": [
    {
     "data": {
      "text/plain": [
       "0"
      ]
     },
     "execution_count": 13,
     "metadata": {},
     "output_type": "execute_result"
    }
   ],
   "source": [
    "# Подсчет количества дубликатов в данных\n",
    "data.duplicated().sum()"
   ]
  },
  {
   "cell_type": "markdown",
   "metadata": {},
   "source": [
    "Дупликатов в данных не обнаружено."
   ]
  },
  {
   "cell_type": "code",
   "execution_count": 14,
   "metadata": {
    "scrolled": true
   },
   "outputs": [
    {
     "data": {
      "text/plain": [
       "array(['France', 'Spain', 'Germany'], dtype=object)"
      ]
     },
     "execution_count": 14,
     "metadata": {},
     "output_type": "execute_result"
    }
   ],
   "source": [
    "# Вывод уникальных значений в столбце 'Geography'\n",
    "data['Geography'].unique()"
   ]
  },
  {
   "cell_type": "code",
   "execution_count": 15,
   "metadata": {},
   "outputs": [],
   "source": [
    "# Удаление столбцов-идентификаторов, не представляющих ценности для алгоритма\n",
    "data = data.drop(['RowNumber', 'CustomerId', 'Surname'], axis=1)"
   ]
  },
  {
   "cell_type": "code",
   "execution_count": 16,
   "metadata": {},
   "outputs": [],
   "source": [
    "# Приведем наименования столбцов к строчному виду\n",
    "data.columns = data.columns.str.strip().str.lower()"
   ]
  },
  {
   "cell_type": "code",
   "execution_count": 17,
   "metadata": {},
   "outputs": [
    {
     "data": {
      "text/html": [
       "<div>\n",
       "<style scoped>\n",
       "    .dataframe tbody tr th:only-of-type {\n",
       "        vertical-align: middle;\n",
       "    }\n",
       "\n",
       "    .dataframe tbody tr th {\n",
       "        vertical-align: top;\n",
       "    }\n",
       "\n",
       "    .dataframe thead th {\n",
       "        text-align: right;\n",
       "    }\n",
       "</style>\n",
       "<table border=\"1\" class=\"dataframe\">\n",
       "  <thead>\n",
       "    <tr style=\"text-align: right;\">\n",
       "      <th></th>\n",
       "      <th>creditscore</th>\n",
       "      <th>geography</th>\n",
       "      <th>gender</th>\n",
       "      <th>age</th>\n",
       "      <th>tenure</th>\n",
       "      <th>balance</th>\n",
       "      <th>numofproducts</th>\n",
       "      <th>hascrcard</th>\n",
       "      <th>isactivemember</th>\n",
       "      <th>estimatedsalary</th>\n",
       "      <th>exited</th>\n",
       "    </tr>\n",
       "  </thead>\n",
       "  <tbody>\n",
       "    <tr>\n",
       "      <th>79</th>\n",
       "      <td>416</td>\n",
       "      <td>Germany</td>\n",
       "      <td>Female</td>\n",
       "      <td>41</td>\n",
       "      <td>10.0</td>\n",
       "      <td>122189.66</td>\n",
       "      <td>2</td>\n",
       "      <td>1</td>\n",
       "      <td>0</td>\n",
       "      <td>98301.61</td>\n",
       "      <td>0</td>\n",
       "    </tr>\n",
       "    <tr>\n",
       "      <th>7314</th>\n",
       "      <td>588</td>\n",
       "      <td>France</td>\n",
       "      <td>Female</td>\n",
       "      <td>36</td>\n",
       "      <td>2.0</td>\n",
       "      <td>0.00</td>\n",
       "      <td>2</td>\n",
       "      <td>1</td>\n",
       "      <td>0</td>\n",
       "      <td>92536.00</td>\n",
       "      <td>1</td>\n",
       "    </tr>\n",
       "    <tr>\n",
       "      <th>5347</th>\n",
       "      <td>649</td>\n",
       "      <td>Spain</td>\n",
       "      <td>Male</td>\n",
       "      <td>32</td>\n",
       "      <td>1.0</td>\n",
       "      <td>0.00</td>\n",
       "      <td>1</td>\n",
       "      <td>0</td>\n",
       "      <td>1</td>\n",
       "      <td>91167.19</td>\n",
       "      <td>1</td>\n",
       "    </tr>\n",
       "    <tr>\n",
       "      <th>5456</th>\n",
       "      <td>659</td>\n",
       "      <td>Germany</td>\n",
       "      <td>Male</td>\n",
       "      <td>34</td>\n",
       "      <td>9.0</td>\n",
       "      <td>134464.58</td>\n",
       "      <td>2</td>\n",
       "      <td>1</td>\n",
       "      <td>0</td>\n",
       "      <td>178833.34</td>\n",
       "      <td>0</td>\n",
       "    </tr>\n",
       "    <tr>\n",
       "      <th>4641</th>\n",
       "      <td>485</td>\n",
       "      <td>Germany</td>\n",
       "      <td>Male</td>\n",
       "      <td>34</td>\n",
       "      <td>3.0</td>\n",
       "      <td>133658.24</td>\n",
       "      <td>1</td>\n",
       "      <td>1</td>\n",
       "      <td>0</td>\n",
       "      <td>70209.83</td>\n",
       "      <td>0</td>\n",
       "    </tr>\n",
       "  </tbody>\n",
       "</table>\n",
       "</div>"
      ],
      "text/plain": [
       "      creditscore geography  gender  age  tenure    balance  numofproducts  \\\n",
       "79            416   Germany  Female   41    10.0  122189.66              2   \n",
       "7314          588    France  Female   36     2.0       0.00              2   \n",
       "5347          649     Spain    Male   32     1.0       0.00              1   \n",
       "5456          659   Germany    Male   34     9.0  134464.58              2   \n",
       "4641          485   Germany    Male   34     3.0  133658.24              1   \n",
       "\n",
       "      hascrcard  isactivemember  estimatedsalary  exited  \n",
       "79            1               0         98301.61       0  \n",
       "7314          1               0         92536.00       1  \n",
       "5347          0               1         91167.19       1  \n",
       "5456          1               0        178833.34       0  \n",
       "4641          1               0         70209.83       0  "
      ]
     },
     "execution_count": 17,
     "metadata": {},
     "output_type": "execute_result"
    }
   ],
   "source": [
    "data.sample(5)"
   ]
  },
  {
   "cell_type": "code",
   "execution_count": 18,
   "metadata": {
    "scrolled": true
   },
   "outputs": [
    {
     "data": {
      "text/plain": [
       "(10000, 11)"
      ]
     },
     "execution_count": 18,
     "metadata": {},
     "output_type": "execute_result"
    }
   ],
   "source": [
    "data.shape"
   ]
  },
  {
   "cell_type": "markdown",
   "metadata": {},
   "source": [
    "<b>Вывод</b>\n",
    "\n",
    "- В датасете 10000 объектов, явных дубликатов нет.\n",
    "- Заполнили попущенные значения в столбце `Tenure`.\n",
    "- Удалили из датасета столбцы `RowNumber`, `CustomerId`, `Surname`.\n",
    "- Привели наименования колонок к строчному виду."
   ]
  },
  {
   "cell_type": "markdown",
   "metadata": {},
   "source": [
    "_________"
   ]
  },
  {
   "cell_type": "markdown",
   "metadata": {},
   "source": [
    "## Исследование задачи"
   ]
  },
  {
   "cell_type": "markdown",
   "metadata": {},
   "source": [
    "### Подготовка данных для машинного обучения"
   ]
  },
  {
   "cell_type": "code",
   "execution_count": 19,
   "metadata": {},
   "outputs": [],
   "source": [
    "# Данные подготовим методом OHE, что позволит нам использовать разные модели и не попасть в дамми ловушку\n",
    "data = pd.get_dummies(data, drop_first=True)"
   ]
  },
  {
   "cell_type": "code",
   "execution_count": 20,
   "metadata": {},
   "outputs": [
    {
     "data": {
      "text/html": [
       "<div>\n",
       "<style scoped>\n",
       "    .dataframe tbody tr th:only-of-type {\n",
       "        vertical-align: middle;\n",
       "    }\n",
       "\n",
       "    .dataframe tbody tr th {\n",
       "        vertical-align: top;\n",
       "    }\n",
       "\n",
       "    .dataframe thead th {\n",
       "        text-align: right;\n",
       "    }\n",
       "</style>\n",
       "<table border=\"1\" class=\"dataframe\">\n",
       "  <thead>\n",
       "    <tr style=\"text-align: right;\">\n",
       "      <th></th>\n",
       "      <th>creditscore</th>\n",
       "      <th>age</th>\n",
       "      <th>tenure</th>\n",
       "      <th>balance</th>\n",
       "      <th>numofproducts</th>\n",
       "      <th>hascrcard</th>\n",
       "      <th>isactivemember</th>\n",
       "      <th>estimatedsalary</th>\n",
       "      <th>exited</th>\n",
       "      <th>geography_Germany</th>\n",
       "      <th>geography_Spain</th>\n",
       "      <th>gender_Male</th>\n",
       "    </tr>\n",
       "  </thead>\n",
       "  <tbody>\n",
       "    <tr>\n",
       "      <th>2627</th>\n",
       "      <td>571</td>\n",
       "      <td>25</td>\n",
       "      <td>6.0</td>\n",
       "      <td>82506.72</td>\n",
       "      <td>2</td>\n",
       "      <td>1</td>\n",
       "      <td>0</td>\n",
       "      <td>167705.07</td>\n",
       "      <td>0</td>\n",
       "      <td>1</td>\n",
       "      <td>0</td>\n",
       "      <td>1</td>\n",
       "    </tr>\n",
       "    <tr>\n",
       "      <th>3006</th>\n",
       "      <td>747</td>\n",
       "      <td>45</td>\n",
       "      <td>1.0</td>\n",
       "      <td>114959.12</td>\n",
       "      <td>1</td>\n",
       "      <td>1</td>\n",
       "      <td>0</td>\n",
       "      <td>189362.39</td>\n",
       "      <td>1</td>\n",
       "      <td>0</td>\n",
       "      <td>0</td>\n",
       "      <td>0</td>\n",
       "    </tr>\n",
       "    <tr>\n",
       "      <th>7278</th>\n",
       "      <td>642</td>\n",
       "      <td>33</td>\n",
       "      <td>4.0</td>\n",
       "      <td>84607.34</td>\n",
       "      <td>2</td>\n",
       "      <td>0</td>\n",
       "      <td>1</td>\n",
       "      <td>60059.47</td>\n",
       "      <td>0</td>\n",
       "      <td>0</td>\n",
       "      <td>0</td>\n",
       "      <td>0</td>\n",
       "    </tr>\n",
       "    <tr>\n",
       "      <th>7844</th>\n",
       "      <td>612</td>\n",
       "      <td>38</td>\n",
       "      <td>1.0</td>\n",
       "      <td>0.00</td>\n",
       "      <td>2</td>\n",
       "      <td>1</td>\n",
       "      <td>1</td>\n",
       "      <td>9209.21</td>\n",
       "      <td>0</td>\n",
       "      <td>0</td>\n",
       "      <td>0</td>\n",
       "      <td>0</td>\n",
       "    </tr>\n",
       "    <tr>\n",
       "      <th>6697</th>\n",
       "      <td>638</td>\n",
       "      <td>41</td>\n",
       "      <td>5.0</td>\n",
       "      <td>131762.94</td>\n",
       "      <td>1</td>\n",
       "      <td>1</td>\n",
       "      <td>1</td>\n",
       "      <td>47675.29</td>\n",
       "      <td>0</td>\n",
       "      <td>0</td>\n",
       "      <td>0</td>\n",
       "      <td>1</td>\n",
       "    </tr>\n",
       "  </tbody>\n",
       "</table>\n",
       "</div>"
      ],
      "text/plain": [
       "      creditscore  age  tenure    balance  numofproducts  hascrcard  \\\n",
       "2627          571   25     6.0   82506.72              2          1   \n",
       "3006          747   45     1.0  114959.12              1          1   \n",
       "7278          642   33     4.0   84607.34              2          0   \n",
       "7844          612   38     1.0       0.00              2          1   \n",
       "6697          638   41     5.0  131762.94              1          1   \n",
       "\n",
       "      isactivemember  estimatedsalary  exited  geography_Germany  \\\n",
       "2627               0        167705.07       0                  1   \n",
       "3006               0        189362.39       1                  0   \n",
       "7278               1         60059.47       0                  0   \n",
       "7844               1          9209.21       0                  0   \n",
       "6697               1         47675.29       0                  0   \n",
       "\n",
       "      geography_Spain  gender_Male  \n",
       "2627                0            1  \n",
       "3006                0            0  \n",
       "7278                0            0  \n",
       "7844                0            0  \n",
       "6697                0            1  "
      ]
     },
     "execution_count": 20,
     "metadata": {},
     "output_type": "execute_result"
    }
   ],
   "source": [
    "data.sample(5)"
   ]
  },
  {
   "cell_type": "code",
   "execution_count": 21,
   "metadata": {},
   "outputs": [
    {
     "data": {
      "text/plain": [
       "(10000, 12)"
      ]
     },
     "execution_count": 21,
     "metadata": {},
     "output_type": "execute_result"
    }
   ],
   "source": [
    "data.shape"
   ]
  },
  {
   "cell_type": "markdown",
   "metadata": {},
   "source": [
    "В новом датафрейме был добавлен один дополнительный столбец, поэтому теперь общее количество столбцов составляет 12. Изначально столбец `Geography` содержал 3 уникальных значения, а столбец `Gender_Male` содержал 2 уникальных значения. В результате кодирования этих категориальных переменных мы получили только 2 новых столбца для столбца `Geography` и 1 новый столбец для столбца `Gender_Male`. Это позволяет избежать дамми-ловушки, которая может возникнуть при использовании полного кодирования (One-Hot Encoding)."
   ]
  },
  {
   "cell_type": "markdown",
   "metadata": {},
   "source": [
    "### Сформируем выборки"
   ]
  },
  {
   "cell_type": "code",
   "execution_count": 22,
   "metadata": {},
   "outputs": [],
   "source": [
    "# Разделение на признаки и целевую переменную\n",
    "features = data.drop('exited', axis=1)\n",
    "target = data['exited']"
   ]
  },
  {
   "cell_type": "markdown",
   "metadata": {},
   "source": [
    "Дальше разделим датасет на 3 выборки - обучающую, валидационную и тестовую. Применим агрумент stratify, чтобы убедиться, что модель не будет смещена в сторону часто встречающихся классов."
   ]
  },
  {
   "cell_type": "code",
   "execution_count": 23,
   "metadata": {},
   "outputs": [
    {
     "name": "stdout",
     "output_type": "stream",
     "text": [
      "Размер обучающей выборки: 8000\n",
      "Размер валидационной выборки: 1000\n",
      "Размер тестовой выборки: 1000\n",
      "Обучающая выборка составляет 80.00% от исходного датасета\n",
      "Валидационная выборка составляет 10.00% от исходного датасета\n",
      "Тестовая выборка составляет 10.00% от исходного датасета\n"
     ]
    }
   ],
   "source": [
    "# Разделяем на обучающую и тестовую выборки\n",
    "features_train, features_valid_test, target_train, target_valid_test = train_test_split(\n",
    "    features, target, test_size=0.2, random_state=12345, stratify=target)\n",
    "\n",
    "# Разделяем обучающую выборку на обучающую и валидационную\n",
    "features_valid, features_test, target_valid, target_test = train_test_split(\n",
    "    features_valid_test, target_valid_test, test_size=0.5, random_state=12345, stratify=target_valid_test)\n",
    "\n",
    "# Выводим размеры выборок\n",
    "print(\"Размер обучающей выборки:\", features_train.shape[0])\n",
    "print(\"Размер валидационной выборки:\", features_valid.shape[0])\n",
    "print(\"Размер тестовой выборки:\", features_test.shape[0])\n",
    "\n",
    "# Выводим процентное соотношение выборок от изначального датасета\n",
    "total_samples = features.shape[0]\n",
    "train_percentage = features_train.shape[0] / total_samples * 100\n",
    "valid_percentage = features_valid.shape[0] / total_samples * 100\n",
    "test_percentage = features_test.shape[0] / total_samples * 100\n",
    "print(\"Обучающая выборка составляет {:.2f}% от исходного датасета\".format(train_percentage))\n",
    "print(\"Валидационная выборка составляет {:.2f}% от исходного датасета\".format(valid_percentage))\n",
    "print(\"Тестовая выборка составляет {:.2f}% от исходного датасета\".format(test_percentage))\n"
   ]
  },
  {
   "cell_type": "markdown",
   "metadata": {},
   "source": [
    "Такое разделение позволяет использовать большую часть данных для обучения модели, а также иметь независимые наборы данных для валидации и тестирования, чтобы оценить производительность модели."
   ]
  },
  {
   "cell_type": "markdown",
   "metadata": {},
   "source": [
    "Масштабирование численных признаков"
   ]
  },
  {
   "cell_type": "code",
   "execution_count": 24,
   "metadata": {},
   "outputs": [],
   "source": [
    "#Выберим только численных признаки\n",
    "numeric = ['creditscore', 'age', 'tenure', 'balance', 'numofproducts', 'estimatedsalary']\n",
    "# Создадим объект структруы StandardScaler\n",
    "scaler = StandardScaler()\n",
    "# Настроим объект на обучающих данных\n",
    "scaler.fit(features_train[numeric])\n",
    "\n",
    "#Масштабируем числ признаки обучающей выборки\n",
    "features_train[numeric] = scaler.transform(features_train[numeric])\n",
    "#Масштабируем численные признаки валидационной выборки \n",
    "features_valid[numeric] = scaler.transform(features_valid[numeric])\n",
    "#Масштабируем численные признаки тестовой выборки  \n",
    "features_test[numeric] = scaler.transform(features_test[numeric])"
   ]
  },
  {
   "cell_type": "markdown",
   "metadata": {},
   "source": [
    "В результате мы получили масштабированные признаки для трех выборок. Данные подготовлены для исследовательской работы"
   ]
  },
  {
   "cell_type": "markdown",
   "metadata": {},
   "source": [
    "### Применение модели машинного обучения"
   ]
  },
  {
   "cell_type": "markdown",
   "metadata": {},
   "source": [
    "Сравним и оценим различные модели машинного обучения и выберем наиболее подходящую модель."
   ]
  },
  {
   "cell_type": "code",
   "execution_count": 25,
   "metadata": {},
   "outputs": [
    {
     "name": "stdout",
     "output_type": "stream",
     "text": [
      "Модель дерева решений:\n",
      "Интерпретируемость модели: 2315\n",
      "Время обучения: 0.03499460220336914\n",
      "Точность: 0.798\n",
      "Precision: 0.5045871559633027\n",
      "Recall: 0.5392156862745098\n",
      "F1-мера: 0.5213270142180094\n",
      "\n",
      "Модель случайного леса:\n",
      "Интерпретируемость модели: 223602\n",
      "Время обучения: 0.8454911708831787\n",
      "Точность: 0.862\n",
      "Precision: 0.75\n",
      "Recall: 0.4852941176470588\n",
      "F1-мера: 0.5892857142857142\n",
      "\n",
      "Модель логистической регрессии:\n",
      "Интерпретируемость модели: 11\n",
      "Время обучения: 0.01579570770263672\n",
      "Точность: 0.811\n",
      "Precision: 0.6119402985074627\n",
      "Recall: 0.20098039215686275\n",
      "F1-мера: 0.3025830258302583\n"
     ]
    }
   ],
   "source": [
    "# Оценка интерпретируемости модели дерева решений\n",
    "model_DTC = DecisionTreeClassifier(random_state=123)\n",
    "model_DTC.fit(features_train, target_train)\n",
    "tree_interpretability = model_DTC.tree_.node_count\n",
    "\n",
    "# Оценка времени обучения модели дерева решений\n",
    "start_time_DTC = time.time()\n",
    "model_DTC.fit(features_train, target_train)\n",
    "end_time_DTC = time.time()\n",
    "decision_tree_training_time = end_time_DTC - start_time_DTC\n",
    "\n",
    "# Оценка метрик для модели дерева решений\n",
    "predictions_DTC = model_DTC.predict(features_valid)\n",
    "decision_tree_accuracy = accuracy_score(target_valid, predictions_DTC)\n",
    "decision_tree_precision = precision_score(target_valid, predictions_DTC)\n",
    "decision_tree_recall = recall_score(target_valid, predictions_DTC)\n",
    "decision_tree_f1_score = f1_score(target_valid, predictions_DTC)\n",
    "decision_tree_probs = model_DTC.predict_proba(features_valid)[:, 1]\n",
    "#decision_tree_auc_roc = roc_auc_score(target_valid, decision_tree_probs)\n",
    "\n",
    "# Вывод результатов для модели дерева решений\n",
    "print(\"Модель дерева решений:\")\n",
    "print(\"Интерпретируемость модели:\", tree_interpretability)\n",
    "print(\"Время обучения:\", decision_tree_training_time)\n",
    "print(\"Точность:\", decision_tree_accuracy)\n",
    "print(\"Precision:\", decision_tree_precision)\n",
    "print(\"Recall:\", decision_tree_recall)\n",
    "print(\"F1-мера:\", decision_tree_f1_score)\n",
    "#print(\"AUC-ROC для модели дерева решений:\", decision_tree_auc_roc)\n",
    "print()\n",
    "\n",
    "# Оценка интерпретируемости модели случайного леса\n",
    "model_RFC = RandomForestClassifier(random_state=12345, n_estimators=100)\n",
    "model_RFC.fit(features_train, target_train)\n",
    "random_forest_interpretability = sum(estimator.tree_.node_count for estimator in model_RFC.estimators_)\n",
    "\n",
    "# Оценка времени обучения модели случайного леса\n",
    "start_time_RFC = time.time()\n",
    "model_RFC.fit(features_train, target_train)\n",
    "end_time_RFC = time.time()\n",
    "random_forest_training_time = end_time_RFC - start_time_RFC\n",
    "\n",
    "# Оценка метрик для модели случайного леса\n",
    "predictions_RFC = model_RFC.predict(features_valid)\n",
    "random_forest_accuracy = accuracy_score(target_valid, predictions_RFC)\n",
    "random_forest_precision = precision_score(target_valid, predictions_RFC)\n",
    "random_forest_recall = recall_score(target_valid, predictions_RFC)\n",
    "random_forest_f1_score = f1_score(target_valid, predictions_RFC)\n",
    "random_forest_probs = model_RFC.predict_proba(features_valid)[:, 1]\n",
    "#random_forest_auc_roc = roc_auc_score(target_valid, random_forest_probs)\n",
    "\n",
    "\n",
    "# Вывод результатов для модели случайного леса\n",
    "print(\"Модель случайного леса:\")\n",
    "print(\"Интерпретируемость модели:\", random_forest_interpretability)\n",
    "print(\"Время обучения:\", random_forest_training_time)\n",
    "print(\"Точность:\", random_forest_accuracy)\n",
    "print(\"Precision:\", random_forest_precision)\n",
    "print(\"Recall:\", random_forest_recall)\n",
    "print(\"F1-мера:\", random_forest_f1_score)\n",
    "#print(\"AUC-ROC для модели случайного леса:\", random_forest_auc_roc)\n",
    "print()\n",
    "\n"
   ]
  },
  {
   "cell_type": "markdown",
   "metadata": {},
   "source": [
    "Построим графики ROC-кривых для каждой модели"
   ]
  },
  {
   "cell_type": "code",
   "execution_count": 26,
   "metadata": {},
   "outputs": [
    {
     "data": {
      "image/png": "[encoded data removed]",
      "text/plain": [
       "<Figure size 432x288 with 1 Axes>"
      ]
     },
     "metadata": {
      "needs_background": "light"
     },
     "output_type": "display_data"
    }
   ],
   "source": [
    "# Расчет значений вероятностей положительного класса для каждой модели\n",
    "probabilities_DTC = model_DTC.predict_proba(features_valid)[:, 1]\n",
    "probabilities_RFC = model_RFC.predict_proba(features_valid)[:, 1]\n",
    "\n",
    "\n",
    "# Расчет значений FPR, TPR и пороговых значений для каждой модели\n",
    "fpr_DTC, tpr_DTC, thresholds_DTC = roc_curve(target_valid, probabilities_DTC)\n",
    "fpr_RFC, tpr_RFC, thresholds_RFC = roc_curve(target_valid, probabilities_RFC)\n",
    "\n",
    "\n",
    "# Построение графиков ROC-кривых для каждой модели\n",
    "plt.figure()\n",
    "plt.plot(fpr_DTC, tpr_DTC, linestyle='solid', label='Дерево решений')\n",
    "plt.plot(fpr_RFC, tpr_RFC, linestyle='solid', label='Случайный лес')\n",
    "\n",
    "plt.plot([0, 1], [0, 1], linestyle='--')\n",
    "plt.xlim([0.0, 1.0])\n",
    "plt.ylim([0.0, 1.0])\n",
    "plt.xlabel('False Positive Rate')\n",
    "plt.ylabel('True Positive Rate')\n",
    "plt.title('ROC-кривая')\n",
    "plt.legend()\n",
    "plt.show()\n"
   ]
  },
  {
   "cell_type": "markdown",
   "metadata": {},
   "source": [
    "Исходя из этих результатов, можно сказать, что модель случайного леса имеет наилучшие показатели точности, F1-меры и AUC-ROC, при этом обладая высокой интерпретируемостью. Модель дерева решений также имеет неплохую точность и F1-меру, но её интерпретируемость ниже. Модель логистической регрессии показывает низкие значения точности, F1-меры и AUC-ROC, а также имеет очень низкую интерпретируемость.\n",
    "\n",
    "В целом, для данной задачи модель случайного леса может быть предпочтительной из-за баланса между точностью, интерпретируемостью и временем обучения."
   ]
  },
  {
   "cell_type": "markdown",
   "metadata": {},
   "source": [
    "_________________________"
   ]
  },
  {
   "cell_type": "markdown",
   "metadata": {},
   "source": [
    "## Борьба с дисбалансом"
   ]
  },
  {
   "cell_type": "markdown",
   "metadata": {},
   "source": [
    "Исследуем баланса классов выборки"
   ]
  },
  {
   "cell_type": "code",
   "execution_count": 27,
   "metadata": {
    "scrolled": true
   },
   "outputs": [
    {
     "name": "stdout",
     "output_type": "stream",
     "text": [
      "0    0.7963\n",
      "1    0.2037\n",
      "Name: exited, dtype: float64\n"
     ]
    },
    {
     "data": {
      "text/plain": [
       "<AxesSubplot:>"
      ]
     },
     "execution_count": 27,
     "metadata": {},
     "output_type": "execute_result"
    },
    {
     "data": {
      "image/png": "[encoded data removed]",
      "text/plain": [
       "<Figure size 432x288 with 1 Axes>"
      ]
     },
     "metadata": {
      "needs_background": "light"
     },
     "output_type": "display_data"
    }
   ],
   "source": [
    "class_frequency = data['exited'].value_counts(normalize=1)\n",
    "print(class_frequency)\n",
    "class_frequency.plot(kind='bar')"
   ]
  },
  {
   "cell_type": "markdown",
   "metadata": {},
   "source": [
    "Из полученных данных видно, что в целевом признаке наблюдается достаточно сильный дисбаланс классов: отрицательны ответов -80% , положитительных - 20%. Что указывает на дисбаланс."
   ]
  },
  {
   "cell_type": "markdown",
   "metadata": {},
   "source": [
    "<i>Взвешивание классов</i>"
   ]
  },
  {
   "cell_type": "code",
   "execution_count": 28,
   "metadata": {},
   "outputs": [
    {
     "name": "stdout",
     "output_type": "stream",
     "text": [
      "Точность (Дерево решений): 0.814\n",
      "F1-мера (Дерево решений): 0.5418719211822661\n",
      "\n",
      "Точность (Случайный лес): 0.829\n",
      "F1-мера (Случайный лес): 0.6444906444906444\n",
      "\n",
      "Точность (Логистическая регрессия): 0.714\n",
      "F1-мера (Логистическая регрессия): 0.506896551724138\n"
     ]
    }
   ],
   "source": [
    "# Обучение моделей с взвешиванием классов\n",
    "model_DTC = DecisionTreeClassifier(class_weight='balanced', random_state=1515)\n",
    "model_RFC = RandomForestClassifier(class_weight='balanced', max_depth=10, n_estimators=100, min_samples_leaf=5, random_state=1234)\n",
    "\n",
    "\n",
    "model_DTC.fit(features_train, target_train)\n",
    "model_RFC.fit(features_train, target_train)\n",
    "\n",
    "\n",
    "# Оценка моделей на валидационной выборке\n",
    "DTC_score = model_DTC.score(features_valid, target_valid)\n",
    "RFC_score = model_RFC.score(features_valid, target_valid)\n",
    "\n",
    "\n",
    "DTC_f1 = f1_score(target_valid, model_DTC.predict(features_valid))\n",
    "RFC_f1 = f1_score(target_valid, model_RFC.predict(features_valid))\n",
    "\n",
    "\n",
    "\n",
    "print(\"Точность (Дерево решений):\", DTC_score)\n",
    "print(\"F1-мера (Дерево решений):\", DTC_f1)\n",
    "\n",
    "print()\n",
    "print(\"Точность (Случайный лес):\", RFC_score)\n",
    "print(\"F1-мера (Случайный лес):\", RFC_f1)\n"
   ]
  },
  {
   "cell_type": "markdown",
   "metadata": {},
   "source": [
    "<i>Увеличение выборки (upsampling)</i>"
   ]
  },
  {
   "cell_type": "code",
   "execution_count": 29,
   "metadata": {},
   "outputs": [
    {
     "name": "stdout",
     "output_type": "stream",
     "text": [
      "Увеличение выборки (upsampling):\n",
      "Точность (Дерево решений): 0.793\n",
      "F1-мера (Дерево решений): 0.5035971223021583\n",
      "\n",
      "Точность (Случайный лес): 0.816\n",
      "F1-мера (Случайный лес): 0.6290322580645161\n",
      "\n",
      "Точность (Логистическая регрессия): 0.707\n",
      "F1-мера (Логистическая регрессия): 0.502546689303905\n"
     ]
    }
   ],
   "source": [
    "# Объединение признаков и целевой переменной для увеличения выборки (upsampling)\n",
    "df_upsampled = pd.concat([features_train, target_train], axis=1)\n",
    "\n",
    "# Разделение на отрицательные и положительные примеры\n",
    "negative_examples = df_upsampled[df_upsampled['exited'] == 0]\n",
    "positive_examples = df_upsampled[df_upsampled['exited'] == 1]\n",
    "\n",
    "# Увеличение положительных примеров\n",
    "positive_examples_upsampled = resample(positive_examples, replace=True, n_samples=len(negative_examples), random_state=1234)\n",
    "\n",
    "# Объединение положительных и отрицательных примеров\n",
    "df_upsampled = pd.concat([negative_examples, positive_examples_upsampled])\n",
    "\n",
    "# Разделение на признаки и целевую переменную\n",
    "features_train_upsampled = df_upsampled.drop('exited', axis=1)\n",
    "target_train_upsampled = df_upsampled['exited']\n",
    "\n",
    "# Разделение на признаки и целевую переменную\n",
    "model_DTC = DecisionTreeClassifier(random_state=1234)\n",
    "model_RFC = RandomForestClassifier(max_depth=10, n_estimators=100, min_samples_leaf=5, random_state=1234)\n",
    "\n",
    "\n",
    "model_DTC.fit(features_train_upsampled, target_train_upsampled)\n",
    "model_RFC.fit(features_train_upsampled, target_train_upsampled)\n",
    "\n",
    "\n",
    "DTC_score = model_DTC.score(features_valid, target_valid)\n",
    "RFC_score = model_RFC.score(features_valid, target_valid)\n",
    "\n",
    "\n",
    "DTC_f1_up = f1_score(target_valid, model_DTC.predict(features_valid))\n",
    "RFC_f1_up = f1_score(target_valid, model_RFC.predict(features_valid))\n",
    "\n",
    "\n",
    "\n",
    "\n",
    "print(\"Увеличение выборки (upsampling):\")\n",
    "print(\"Точность (Дерево решений):\", DTC_score)\n",
    "print(\"F1-мера (Дерево решений):\", DTC_f1_up)\n",
    "\n",
    "print()\n",
    "print(\"Точность (Случайный лес):\", RFC_score)\n",
    "print(\"F1-мера (Случайный лес):\", RFC_f1_up)\n"
   ]
  },
  {
   "cell_type": "markdown",
   "metadata": {},
   "source": [
    "<i>Уменьшение выборки (downsampling)</i>"
   ]
  },
  {
   "cell_type": "code",
   "execution_count": 30,
   "metadata": {
    "scrolled": true
   },
   "outputs": [
    {
     "name": "stdout",
     "output_type": "stream",
     "text": [
      "Уменьшение выборки (downsampling):\n",
      "Точность (Дерево решений): 0.716\n",
      "F1-мера (Дерево решений): 0.5418719211822661\n",
      "\n",
      "Точность (Случайный лес): 0.81\n",
      "F1-мера (Случайный лес): 0.6444906444906444\n",
      "\n",
      "Точность (Логистическая регрессия): 0.717\n",
      "F1-мера (Логистическая регрессия): 0.506896551724138\n"
     ]
    }
   ],
   "source": [
    "# Объединение признаков и целевой переменной для уменьшение выборки (downsampling)\n",
    "df_downsampled = pd.concat([features_train, target_train], axis=1)\n",
    "\n",
    "# Разделение на отрицательные и положительные примеры\n",
    "negative_examples = df_downsampled[df_downsampled['exited'] == 0]\n",
    "positive_examples = df_downsampled[df_downsampled['exited'] == 1]\n",
    "\n",
    "# Уменьшение выборки отрицательных примеров\n",
    "negative_examples_downsampled = resample(negative_examples, replace=False, n_samples=len(positive_examples), random_state=1234)\n",
    "\n",
    "# Объединение уменьшенных отрицательных и положительных примеров\n",
    "df_downsampled = pd.concat([negative_examples_downsampled, positive_examples])\n",
    "\n",
    "# Разделение на признаки и целевую переменную\n",
    "features_train_downsampled = df_downsampled.drop('exited', axis=1)\n",
    "target_train_downsampled = df_downsampled['exited']\n",
    "\n",
    "# Обучение и оценка моделей\n",
    "model_DTC = DecisionTreeClassifier(random_state=1234)\n",
    "model_RFC = RandomForestClassifier(max_depth=10, n_estimators=100, min_samples_leaf=5, random_state=1234)\n",
    "\n",
    "\n",
    "model_DTC.fit(features_train_downsampled, target_train_downsampled)\n",
    "model_RFC.fit(features_train_downsampled, target_train_downsampled)\n",
    "\n",
    "\n",
    "DTC_score = model_DTC.score(features_valid, target_valid)\n",
    "RFC_score = model_RFC.score(features_valid, target_valid)\n",
    "\n",
    "\n",
    "DTC_f1_down = f1_score(target_valid, model_DTC.predict(features_valid))\n",
    "RFC_f1_down = f1_score(target_valid, model_RFC.predict(features_valid))\n",
    "\n",
    "\n",
    "\n",
    "print(\"Уменьшение выборки (downsampling):\")\n",
    "print(\"Точность (Дерево решений):\", DTC_score)\n",
    "print(\"F1-мера (Дерево решений):\", DTC_f1)\n",
    "\n",
    "print()\n",
    "print(\"Точность (Случайный лес):\", RFC_score)\n",
    "print(\"F1-мера (Случайный лес):\", RFC_f1)\n"
   ]
  },
  {
   "cell_type": "code",
   "execution_count": 32,
   "metadata": {},
   "outputs": [
    {
     "data": {
      "text/html": [
       "<div>\n",
       "<style scoped>\n",
       "    .dataframe tbody tr th:only-of-type {\n",
       "        vertical-align: middle;\n",
       "    }\n",
       "\n",
       "    .dataframe tbody tr th {\n",
       "        vertical-align: top;\n",
       "    }\n",
       "\n",
       "    .dataframe thead th {\n",
       "        text-align: right;\n",
       "    }\n",
       "</style>\n",
       "<table border=\"1\" class=\"dataframe\">\n",
       "  <thead>\n",
       "    <tr style=\"text-align: right;\">\n",
       "      <th></th>\n",
       "      <th>Модель</th>\n",
       "      <th>Взвешивание классов</th>\n",
       "      <th>Upsampling</th>\n",
       "      <th>Downsampling</th>\n",
       "    </tr>\n",
       "  </thead>\n",
       "  <tbody>\n",
       "    <tr>\n",
       "      <th>0</th>\n",
       "      <td>Дерево решений</td>\n",
       "      <td>0.541872</td>\n",
       "      <td>0.503597</td>\n",
       "      <td>0.512027</td>\n",
       "    </tr>\n",
       "    <tr>\n",
       "      <th>1</th>\n",
       "      <td>Случайный лес</td>\n",
       "      <td>0.644491</td>\n",
       "      <td>0.629032</td>\n",
       "      <td>0.630350</td>\n",
       "    </tr>\n",
       "    <tr>\n",
       "      <th>2</th>\n",
       "      <td>Логистическая регрессия</td>\n",
       "      <td>0.506897</td>\n",
       "      <td>0.502547</td>\n",
       "      <td>0.516239</td>\n",
       "    </tr>\n",
       "  </tbody>\n",
       "</table>\n",
       "</div>"
      ],
      "text/plain": [
       "                    Модель  Взвешивание классов  Upsampling  Downsampling\n",
       "0           Дерево решений             0.541872    0.503597      0.512027\n",
       "1            Случайный лес             0.644491    0.629032      0.630350\n",
       "2  Логистическая регрессия             0.506897    0.502547      0.516239"
      ]
     },
     "execution_count": 32,
     "metadata": {},
     "output_type": "execute_result"
    }
   ],
   "source": [
    "# Создаем пустой DataFrame для хранения результатов\n",
    "results_df = pd.DataFrame(columns=['Модель', 'Взвешивание классов', 'Upsampling', 'Downsampling'])\n",
    "\n",
    "\n",
    "# Добавляем значения F1-меры для каждой модели и класса\n",
    "results_df.loc[0] = ['Дерево решений', DTC_f1, DTC_f1_up, DTC_f1_down]\n",
    "results_df.loc[1] = ['Случайный лес', RFC_f1, RFC_f1_up, RFC_f1_down]\n",
    "\n",
    "\n",
    "# Выводим таблицу результатов\n",
    "results_df\n"
   ]
  },
  {
   "cell_type": "markdown",
   "metadata": {},
   "source": [
    "В целом, на основании предоставленных данных, можно сделать вывод, что использование `Cлучайного леса` с методом `Взвешивание классов`\t выборки может быть предпочтительным для решения задачи классификации в данном иследовании."
   ]
  },
  {
   "cell_type": "markdown",
   "metadata": {},
   "source": [
    "## Тестирование модели"
   ]
  },
  {
   "cell_type": "markdown",
   "metadata": {},
   "source": [
    "Так как модель `Cлучайного леса` с применением `Взвешивание классов` показала наилучшее значение метрики `F1-score`, тестирование будем проводить на ней."
   ]
  },
  {
   "cell_type": "code",
   "execution_count": 33,
   "metadata": {},
   "outputs": [
    {
     "name": "stdout",
     "output_type": "stream",
     "text": [
      "Точность: 0.813\n",
      "F1-мера: 0.6112266112266111\n",
      "AUC-ROC: 0.8599304040397797\n"
     ]
    }
   ],
   "source": [
    "# Объединение признаков и целевой переменной для upsampling\n",
    "model = pd.concat([features_train, target_train], axis=1)\n",
    "\n",
    "# Разделение на отрицательные и положительные примеры\n",
    "negative_examples = model[model['exited'] == 0]\n",
    "positive_examples = model[model['exited'] == 1]\n",
    "\n",
    "# Увеличение выборки положительных примеров\n",
    "positive_examples_model = resample(positive_examples, replace=True, n_samples=len(negative_examples), random_state=1234)\n",
    "\n",
    "# Объединение увеличенных положительных и отрицательных примеров\n",
    "model = pd.concat([negative_examples, positive_examples_model])\n",
    "\n",
    "# Разделение на признаки и целевую переменную\n",
    "features_train_model = model.drop('exited', axis=1)\n",
    "target_train_umodel = model['exited']\n",
    "\n",
    "# Обучение модели Random Forest на взвешивание классов\n",
    "model_RFC = RandomForestClassifier(class_weight='balanced', max_depth=10, n_estimators=100, min_samples_leaf=5, random_state=1234)\n",
    "model_RFC.fit(features_train_model, target_train_umodel)\n",
    "\n",
    "# Оценка модели на тестовой выборке\n",
    "test_score = model_RFC.score(features_test, target_test)\n",
    "test_predictions = model_RFC.predict(features_test)\n",
    "test_f1 = f1_score(target_test, test_predictions)\n",
    "test_auc = roc_auc_score(target_test, model_RFC.predict_proba(features_test)[:, 1])\n",
    "\n",
    "\n",
    "print(\"Точность:\", test_score)\n",
    "print(\"F1-мера:\", test_f1)\n",
    "print(\"AUC-ROC:\", test_auc)\n"
   ]
  },
  {
   "cell_type": "code",
   "execution_count": 34,
   "metadata": {},
   "outputs": [
    {
     "data": {
      "image/png": "[encoded data removed]",
      "text/plain": [
       "<Figure size 432x288 with 1 Axes>"
      ]
     },
     "metadata": {
      "needs_background": "light"
     },
     "output_type": "display_data"
    }
   ],
   "source": [
    "# Получение предсказанных вероятностей положительного класса\n",
    "probs_test = model_RFC.predict_proba(features_test)[:, 1]\n",
    "# Вычисление значений для ROC-кривой\n",
    "fpr_test, tpr_test, thresholds = roc_curve(target_test, probs_test)  \n",
    "\n",
    "plt.plot(fpr_test, tpr_test)\n",
    "plt.plot([0, 1], [0, 1], linestyle='--')  # ROC-кривая случайной модели\n",
    "plt.xlim([0.0, 1.0])\n",
    "plt.ylim([0.0, 1.0])\n",
    "plt.xlabel('False Positive Rate')\n",
    "plt.ylabel('True Positive Rate')\n",
    "plt.title('ROC-кривая')\n",
    "plt.legend(['ROC-кривая модели случайного леса', 'ROC-кривая случайной модели'])\n",
    "plt.show()\n"
   ]
  },
  {
   "cell_type": "markdown",
   "metadata": {},
   "source": [
    ">На графике наглядно видно, что площадь под ROC-кривой модели случайного леса (AUC-ROC = 0.86) превышает площадь под ROC->кривой случайной модели (AUC-ROC = 0.61)."
   ]
  },
  {
   "cell_type": "markdown",
   "metadata": {},
   "source": [
    "<b>Вывод</b>"
   ]
  },
  {
   "cell_type": "markdown",
   "metadata": {},
   "source": [
    "По результатам тестирования модели случайного леса с применением увеличения выборки (upsampling) на тестовом наборе данных, получены следующие значения метрик:\n",
    "\n",
    "- F1-мера: 0.6112266112266111\n",
    "- AUC-ROC: 0.8599304040397797\n",
    "\n",
    "F1-мера является метрикой, объединяющей точность и полноту модели, и она показывает сбалансированность между ними. Значение F1-меры равное 0.6112266112266111 говорит о том, что модель хорошо справляется с предсказанием положительного класса (уход клиента), учитывая несбалансированность данных. \n",
    "\n",
    "AUC-ROC показывает качество модели в отношении вероятности правильной классификации объектов. Значение AUC-ROC равное 0.8599304040397797 говорит о том, что модель имеет хорошую дискриминирующую способность и отлично разделяет положительные и отрицательные классы.\n",
    "\n",
    "Таким образом, на основе этих метрик можно сделать вывод, что модель случайного леса с применением увеличения выборки (upsampling) достаточно хорошо справляется с задачей предсказания ухода клиентов и может быть использована для принятия решений в бизнесе."
   ]
  },
  {
   "cell_type": "markdown",
   "metadata": {},
   "source": [
    "## Чек-лист готовности проекта"
   ]
  },
  {
   "cell_type": "markdown",
   "metadata": {},
   "source": [
    "Поставьте 'x' в выполненных пунктах. Далее нажмите Shift+Enter."
   ]
  },
  {
   "cell_type": "markdown",
   "metadata": {},
   "source": [
    "- [x]  Jupyter Notebook открыт\n",
    "- [x]  Весь код выполняется без ошибок\n",
    "- [x]  Ячейки с кодом расположены в порядке исполнения\n",
    "- [x]  Выполнен шаг 1: данные подготовлены\n",
    "- [x]  Выполнен шаг 2: задача исследована\n",
    "    - [x]  Исследован баланс классов\n",
    "    - [x]  Изучены модели без учёта дисбаланса\n",
    "    - [x]  Написаны выводы по результатам исследования\n",
    "- [x]  Выполнен шаг 3: учтён дисбаланс\n",
    "    - [x]  Применено несколько способов борьбы с дисбалансом\n",
    "    - [x]  Написаны выводы по результатам исследования\n",
    "- [x]  Выполнен шаг 4: проведено тестирование\n",
    "- [x]  Удалось достичь *F1*-меры не менее 0.59\n",
    "- [x]  Исследована метрика *AUC-ROC*"
   ]
  }
 ],
 "metadata": {
  "ExecuteTimeLog": [
   {
    "duration": 765,
    "start_time": "2023-07-03T06:22:03.487Z"
   },
   {
    "duration": 1108,
    "start_time": "2023-07-03T06:23:03.193Z"
   },
   {
    "duration": 48,
    "start_time": "2023-07-03T06:24:22.464Z"
   },
   {
    "duration": 93,
    "start_time": "2023-07-03T06:29:40.251Z"
   },
   {
    "duration": 659,
    "start_time": "2023-07-03T06:29:54.985Z"
   },
   {
    "duration": 1089,
    "start_time": "2023-07-03T06:30:07.187Z"
   },
   {
    "duration": 1825,
    "start_time": "2023-07-03T06:30:18.368Z"
   },
   {
    "duration": 1712,
    "start_time": "2023-07-03T06:32:38.589Z"
   },
   {
    "duration": 519,
    "start_time": "2023-07-03T18:54:37.543Z"
   },
   {
    "duration": 584,
    "start_time": "2023-07-03T18:54:56.024Z"
   },
   {
    "duration": 800,
    "start_time": "2023-07-03T18:55:12.368Z"
   },
   {
    "duration": 58,
    "start_time": "2023-07-03T18:55:52.439Z"
   },
   {
    "duration": 478,
    "start_time": "2023-07-03T18:56:01.422Z"
   },
   {
    "duration": 833,
    "start_time": "2023-07-03T18:56:19.055Z"
   },
   {
    "duration": 346,
    "start_time": "2023-07-03T18:56:45.585Z"
   },
   {
    "duration": 12,
    "start_time": "2023-07-03T18:57:09.041Z"
   },
   {
    "duration": 12,
    "start_time": "2023-07-03T18:57:26.210Z"
   },
   {
    "duration": 11,
    "start_time": "2023-07-03T18:57:35.705Z"
   },
   {
    "duration": 14,
    "start_time": "2023-07-03T18:57:49.802Z"
   },
   {
    "duration": 446,
    "start_time": "2023-07-03T18:59:18.899Z"
   },
   {
    "duration": 367,
    "start_time": "2023-07-03T18:59:30.687Z"
   },
   {
    "duration": 770,
    "start_time": "2023-07-03T18:59:44.477Z"
   },
   {
    "duration": 93,
    "start_time": "2023-07-03T20:51:14.396Z"
   },
   {
    "duration": 52,
    "start_time": "2023-07-03T20:51:48.772Z"
   },
   {
    "duration": 6,
    "start_time": "2023-07-03T20:51:58.074Z"
   },
   {
    "duration": 18,
    "start_time": "2023-07-03T20:52:09.969Z"
   },
   {
    "duration": 8,
    "start_time": "2023-07-03T20:52:25.158Z"
   },
   {
    "duration": 121,
    "start_time": "2023-07-03T20:52:32.729Z"
   },
   {
    "duration": 29,
    "start_time": "2023-07-03T20:52:46.461Z"
   },
   {
    "duration": 1904,
    "start_time": "2023-07-04T06:32:30.548Z"
   },
   {
    "duration": 11,
    "start_time": "2023-07-04T06:33:11.056Z"
   },
   {
    "duration": 13,
    "start_time": "2023-07-04T06:33:14.289Z"
   },
   {
    "duration": 4,
    "start_time": "2023-07-04T06:33:43.951Z"
   },
   {
    "duration": 6,
    "start_time": "2023-07-04T06:33:56.513Z"
   },
   {
    "duration": 12,
    "start_time": "2023-07-04T06:34:08.759Z"
   },
   {
    "duration": 6,
    "start_time": "2023-07-04T06:34:18.097Z"
   },
   {
    "duration": 1393,
    "start_time": "2023-07-04T06:34:58.272Z"
   },
   {
    "duration": 49,
    "start_time": "2023-07-04T06:34:59.667Z"
   },
   {
    "duration": 16,
    "start_time": "2023-07-04T06:35:01.136Z"
   },
   {
    "duration": 13,
    "start_time": "2023-07-04T06:35:02.640Z"
   },
   {
    "duration": 4,
    "start_time": "2023-07-04T06:35:04.184Z"
   },
   {
    "duration": 4,
    "start_time": "2023-07-04T06:35:04.648Z"
   },
   {
    "duration": 17,
    "start_time": "2023-07-04T06:35:06.113Z"
   },
   {
    "duration": 5,
    "start_time": "2023-07-04T06:35:06.568Z"
   },
   {
    "duration": 119,
    "start_time": "2023-07-04T06:35:08.782Z"
   },
   {
    "duration": 55,
    "start_time": "2023-07-04T06:39:39.233Z"
   },
   {
    "duration": 9,
    "start_time": "2023-07-04T06:39:50.201Z"
   },
   {
    "duration": 1506,
    "start_time": "2023-07-04T06:39:59.204Z"
   },
   {
    "duration": 41,
    "start_time": "2023-07-04T06:40:00.712Z"
   },
   {
    "duration": 19,
    "start_time": "2023-07-04T06:40:01.129Z"
   },
   {
    "duration": 12,
    "start_time": "2023-07-04T06:40:15.944Z"
   },
   {
    "duration": 1380,
    "start_time": "2023-07-04T06:46:41.959Z"
   },
   {
    "duration": 47,
    "start_time": "2023-07-04T06:46:43.341Z"
   },
   {
    "duration": 25,
    "start_time": "2023-07-04T06:46:43.888Z"
   },
   {
    "duration": 14,
    "start_time": "2023-07-04T06:46:46.396Z"
   },
   {
    "duration": 9,
    "start_time": "2023-07-04T06:47:33.955Z"
   },
   {
    "duration": 2,
    "start_time": "2023-07-04T06:47:48.571Z"
   },
   {
    "duration": 4,
    "start_time": "2023-07-04T06:47:56.459Z"
   },
   {
    "duration": 7,
    "start_time": "2023-07-04T06:48:06.165Z"
   },
   {
    "duration": 3,
    "start_time": "2023-07-04T06:50:54.691Z"
   },
   {
    "duration": 3,
    "start_time": "2023-07-04T06:50:55.391Z"
   },
   {
    "duration": 7,
    "start_time": "2023-07-04T06:50:55.876Z"
   },
   {
    "duration": 12,
    "start_time": "2023-07-04T06:50:58.078Z"
   },
   {
    "duration": 12,
    "start_time": "2023-07-04T06:51:00.318Z"
   },
   {
    "duration": 8,
    "start_time": "2023-07-04T06:51:01.083Z"
   },
   {
    "duration": 99,
    "start_time": "2023-07-04T06:51:26.971Z"
   },
   {
    "duration": 5,
    "start_time": "2023-07-04T07:01:24.711Z"
   },
   {
    "duration": 186,
    "start_time": "2023-07-04T07:01:34.607Z"
   },
   {
    "duration": 116,
    "start_time": "2023-07-04T07:01:42.270Z"
   },
   {
    "duration": 815,
    "start_time": "2023-07-04T07:01:50.455Z"
   },
   {
    "duration": 104,
    "start_time": "2023-07-04T07:03:11.832Z"
   },
   {
    "duration": 11,
    "start_time": "2023-07-04T07:03:20.262Z"
   },
   {
    "duration": 9,
    "start_time": "2023-07-04T07:03:39.751Z"
   },
   {
    "duration": 13,
    "start_time": "2023-07-04T07:03:55.552Z"
   },
   {
    "duration": 4,
    "start_time": "2023-07-04T07:04:02.628Z"
   },
   {
    "duration": 45,
    "start_time": "2023-07-04T07:13:00.451Z"
   },
   {
    "duration": 5,
    "start_time": "2023-07-04T07:13:20.626Z"
   },
   {
    "duration": 11,
    "start_time": "2023-07-04T07:13:44.554Z"
   },
   {
    "duration": 10,
    "start_time": "2023-07-04T07:14:12.790Z"
   },
   {
    "duration": 5,
    "start_time": "2023-07-04T07:14:28.586Z"
   },
   {
    "duration": 8,
    "start_time": "2023-07-04T07:14:47.138Z"
   },
   {
    "duration": 36,
    "start_time": "2023-07-04T07:15:05.245Z"
   },
   {
    "duration": 4,
    "start_time": "2023-07-04T07:15:23.756Z"
   },
   {
    "duration": 302,
    "start_time": "2023-07-04T07:15:30.675Z"
   },
   {
    "duration": 14,
    "start_time": "2023-07-04T07:45:02.386Z"
   },
   {
    "duration": 5372,
    "start_time": "2023-07-04T07:45:27.213Z"
   },
   {
    "duration": 9,
    "start_time": "2023-07-04T07:45:46.788Z"
   },
   {
    "duration": 30,
    "start_time": "2023-07-04T12:08:55.110Z"
   },
   {
    "duration": 4931,
    "start_time": "2023-07-04T12:27:43.247Z"
   },
   {
    "duration": 18,
    "start_time": "2023-07-04T12:37:58.203Z"
   },
   {
    "duration": 9,
    "start_time": "2023-07-04T12:39:50.762Z"
   },
   {
    "duration": 13,
    "start_time": "2023-07-04T12:47:25.735Z"
   },
   {
    "duration": 12,
    "start_time": "2023-07-04T12:48:48.108Z"
   },
   {
    "duration": 5,
    "start_time": "2023-07-04T12:49:26.457Z"
   },
   {
    "duration": 1252,
    "start_time": "2023-07-04T12:56:23.128Z"
   },
   {
    "duration": 393,
    "start_time": "2023-07-04T12:57:55.138Z"
   },
   {
    "duration": 11,
    "start_time": "2023-07-04T12:59:03.005Z"
   },
   {
    "duration": 11,
    "start_time": "2023-07-04T12:59:37.830Z"
   },
   {
    "duration": 12,
    "start_time": "2023-07-04T13:00:36.203Z"
   },
   {
    "duration": 14410,
    "start_time": "2023-07-04T13:01:05.619Z"
   },
   {
    "duration": 3,
    "start_time": "2023-07-04T13:02:12.109Z"
   },
   {
    "duration": 3874,
    "start_time": "2023-07-04T13:02:24.544Z"
   },
   {
    "duration": 86,
    "start_time": "2023-07-04T13:02:28.805Z"
   },
   {
    "duration": 18,
    "start_time": "2023-07-04T13:02:29.399Z"
   },
   {
    "duration": 16,
    "start_time": "2023-07-04T13:02:30.795Z"
   },
   {
    "duration": 9,
    "start_time": "2023-07-04T13:02:32.503Z"
   },
   {
    "duration": 11,
    "start_time": "2023-07-04T13:02:33.995Z"
   },
   {
    "duration": 4,
    "start_time": "2023-07-04T13:02:34.426Z"
   },
   {
    "duration": 9,
    "start_time": "2023-07-04T13:02:34.904Z"
   },
   {
    "duration": 8,
    "start_time": "2023-07-04T13:02:36.200Z"
   },
   {
    "duration": 21,
    "start_time": "2023-07-04T13:02:36.694Z"
   },
   {
    "duration": 7,
    "start_time": "2023-07-04T13:02:37.204Z"
   },
   {
    "duration": 6,
    "start_time": "2023-07-04T13:02:39.793Z"
   },
   {
    "duration": 10,
    "start_time": "2023-07-04T13:02:40.202Z"
   },
   {
    "duration": 6,
    "start_time": "2023-07-04T13:02:40.703Z"
   },
   {
    "duration": 7,
    "start_time": "2023-07-04T13:02:42.443Z"
   },
   {
    "duration": 27,
    "start_time": "2023-07-04T13:02:43.019Z"
   },
   {
    "duration": 7,
    "start_time": "2023-07-04T13:02:46.603Z"
   },
   {
    "duration": 362,
    "start_time": "2023-07-04T13:02:47.136Z"
   },
   {
    "duration": 7,
    "start_time": "2023-07-04T13:02:47.808Z"
   },
   {
    "duration": 11,
    "start_time": "2023-07-04T13:02:51.819Z"
   },
   {
    "duration": 1297,
    "start_time": "2023-07-04T13:03:00.002Z"
   },
   {
    "duration": 327,
    "start_time": "2023-07-04T13:03:08.251Z"
   },
   {
    "duration": 127,
    "start_time": "2023-07-04T13:03:15.075Z"
   },
   {
    "duration": 5290,
    "start_time": "2023-07-04T13:03:34.209Z"
   },
   {
    "duration": 9330,
    "start_time": "2023-07-06T05:24:27.881Z"
   },
   {
    "duration": 3529,
    "start_time": "2023-07-06T05:24:41.070Z"
   },
   {
    "duration": 171,
    "start_time": "2023-07-06T05:24:44.601Z"
   },
   {
    "duration": 20,
    "start_time": "2023-07-06T05:24:47.082Z"
   },
   {
    "duration": 15,
    "start_time": "2023-07-06T05:24:48.934Z"
   },
   {
    "duration": 9,
    "start_time": "2023-07-06T05:24:53.173Z"
   },
   {
    "duration": 3,
    "start_time": "2023-07-06T05:24:55.933Z"
   },
   {
    "duration": 4,
    "start_time": "2023-07-06T05:24:56.751Z"
   },
   {
    "duration": 8,
    "start_time": "2023-07-06T05:24:58.677Z"
   },
   {
    "duration": 5,
    "start_time": "2023-07-06T05:25:01.518Z"
   },
   {
    "duration": 12,
    "start_time": "2023-07-06T05:25:02.333Z"
   },
   {
    "duration": 6,
    "start_time": "2023-07-06T05:25:02.982Z"
   },
   {
    "duration": 5,
    "start_time": "2023-07-06T05:25:06.115Z"
   },
   {
    "duration": 10,
    "start_time": "2023-07-06T05:25:06.885Z"
   },
   {
    "duration": 5,
    "start_time": "2023-07-06T05:25:08.092Z"
   },
   {
    "duration": 9,
    "start_time": "2023-07-06T05:25:10.852Z"
   },
   {
    "duration": 28,
    "start_time": "2023-07-06T05:25:11.885Z"
   },
   {
    "duration": 6,
    "start_time": "2023-07-06T05:25:14.463Z"
   },
   {
    "duration": 297,
    "start_time": "2023-07-06T05:25:17.317Z"
   },
   {
    "duration": 9,
    "start_time": "2023-07-06T05:25:18.934Z"
   },
   {
    "duration": 16,
    "start_time": "2023-07-06T05:25:24.128Z"
   },
   {
    "duration": 1387,
    "start_time": "2023-07-06T05:25:35.174Z"
   },
   {
    "duration": 286,
    "start_time": "2023-07-06T05:25:40.886Z"
   },
   {
    "duration": 119,
    "start_time": "2023-07-06T05:25:44.734Z"
   },
   {
    "duration": 296,
    "start_time": "2023-07-06T05:34:24.306Z"
   },
   {
    "duration": 87,
    "start_time": "2023-07-06T05:34:38.368Z"
   },
   {
    "duration": 407,
    "start_time": "2023-07-06T05:36:17.154Z"
   },
   {
    "duration": 257,
    "start_time": "2023-07-06T05:37:01.409Z"
   },
   {
    "duration": 63,
    "start_time": "2023-07-06T05:42:24.253Z"
   },
   {
    "duration": 52,
    "start_time": "2023-07-06T05:54:25.248Z"
   },
   {
    "duration": 357,
    "start_time": "2023-07-06T05:54:31.807Z"
   },
   {
    "duration": 367,
    "start_time": "2023-07-06T06:09:17.595Z"
   },
   {
    "duration": 318,
    "start_time": "2023-07-06T06:16:06.453Z"
   },
   {
    "duration": 601,
    "start_time": "2023-07-06T06:19:15.678Z"
   },
   {
    "duration": 670,
    "start_time": "2023-07-06T06:20:05.392Z"
   },
   {
    "duration": 14,
    "start_time": "2023-07-06T06:39:48.601Z"
   },
   {
    "duration": 130,
    "start_time": "2023-07-06T06:40:07.668Z"
   },
   {
    "duration": 2180,
    "start_time": "2023-07-06T06:41:53.322Z"
   },
   {
    "duration": 2106,
    "start_time": "2023-07-06T06:42:48.180Z"
   },
   {
    "duration": 18,
    "start_time": "2023-07-06T06:43:14.980Z"
   },
   {
    "duration": 96,
    "start_time": "2023-07-06T06:49:21.767Z"
   },
   {
    "duration": 67,
    "start_time": "2023-07-06T06:52:48.960Z"
   },
   {
    "duration": 367,
    "start_time": "2023-07-06T06:54:40.999Z"
   },
   {
    "duration": 133,
    "start_time": "2023-07-06T06:55:15.490Z"
   },
   {
    "duration": 81,
    "start_time": "2023-07-06T06:55:41.256Z"
   },
   {
    "duration": 722,
    "start_time": "2023-07-06T07:00:14.337Z"
   },
   {
    "duration": 488,
    "start_time": "2023-07-06T07:02:25.291Z"
   },
   {
    "duration": 11,
    "start_time": "2023-07-06T07:07:12.076Z"
   },
   {
    "duration": 12,
    "start_time": "2023-07-06T07:19:53.527Z"
   },
   {
    "duration": 12,
    "start_time": "2023-07-06T07:21:02.094Z"
   },
   {
    "duration": 11,
    "start_time": "2023-07-06T07:23:10.128Z"
   },
   {
    "duration": 14,
    "start_time": "2023-07-06T07:26:24.273Z"
   },
   {
    "duration": 12,
    "start_time": "2023-07-06T07:27:16.953Z"
   },
   {
    "duration": 12,
    "start_time": "2023-07-06T07:27:34.896Z"
   },
   {
    "duration": 11,
    "start_time": "2023-07-06T07:27:42.753Z"
   },
   {
    "duration": 142,
    "start_time": "2023-07-06T07:28:56.418Z"
   },
   {
    "duration": 920,
    "start_time": "2023-07-06T07:38:00.646Z"
   },
   {
    "duration": 15,
    "start_time": "2023-07-06T07:40:33.872Z"
   },
   {
    "duration": 1092,
    "start_time": "2023-07-06T07:40:45.469Z"
   },
   {
    "duration": 145,
    "start_time": "2023-07-06T07:40:55.052Z"
   },
   {
    "duration": 12,
    "start_time": "2023-07-06T07:44:35.374Z"
   },
   {
    "duration": 13,
    "start_time": "2023-07-06T07:47:10.126Z"
   },
   {
    "duration": 11,
    "start_time": "2023-07-06T07:50:57.837Z"
   },
   {
    "duration": 13,
    "start_time": "2023-07-06T07:52:09.416Z"
   },
   {
    "duration": 143,
    "start_time": "2023-07-06T07:54:00.700Z"
   },
   {
    "duration": 144,
    "start_time": "2023-07-06T07:54:11.575Z"
   },
   {
    "duration": 161,
    "start_time": "2023-07-06T07:56:32.481Z"
   },
   {
    "duration": 147,
    "start_time": "2023-07-06T07:59:07.636Z"
   },
   {
    "duration": 21,
    "start_time": "2023-07-06T08:08:31.036Z"
   },
   {
    "duration": 18,
    "start_time": "2023-07-06T08:08:39.373Z"
   },
   {
    "duration": 158,
    "start_time": "2023-07-06T08:08:43.452Z"
   },
   {
    "duration": 10373,
    "start_time": "2023-07-08T10:14:17.750Z"
   },
   {
    "duration": 3797,
    "start_time": "2023-07-08T10:14:28.127Z"
   },
   {
    "duration": 160,
    "start_time": "2023-07-08T10:14:35.236Z"
   },
   {
    "duration": 21,
    "start_time": "2023-07-08T10:14:36.204Z"
   },
   {
    "duration": 15,
    "start_time": "2023-07-08T10:14:38.586Z"
   },
   {
    "duration": 8,
    "start_time": "2023-07-08T10:14:41.491Z"
   },
   {
    "duration": 2,
    "start_time": "2023-07-08T10:14:44.707Z"
   },
   {
    "duration": 3,
    "start_time": "2023-07-08T10:14:45.064Z"
   },
   {
    "duration": 11,
    "start_time": "2023-07-08T10:14:45.628Z"
   },
   {
    "duration": 6,
    "start_time": "2023-07-08T10:14:47.834Z"
   },
   {
    "duration": 21,
    "start_time": "2023-07-08T10:14:48.904Z"
   },
   {
    "duration": 7,
    "start_time": "2023-07-08T10:14:49.805Z"
   },
   {
    "duration": 5,
    "start_time": "2023-07-08T10:15:43.100Z"
   },
   {
    "duration": 138,
    "start_time": "2023-07-08T10:15:47.904Z"
   },
   {
    "duration": 10,
    "start_time": "2023-07-08T10:18:43.275Z"
   },
   {
    "duration": 10,
    "start_time": "2023-07-08T10:18:48.643Z"
   },
   {
    "duration": 10,
    "start_time": "2023-07-08T10:32:08.688Z"
   },
   {
    "duration": 2,
    "start_time": "2023-07-08T10:32:40.621Z"
   },
   {
    "duration": 9,
    "start_time": "2023-07-08T10:33:06.185Z"
   },
   {
    "duration": 9,
    "start_time": "2023-07-08T10:33:59.254Z"
   },
   {
    "duration": 9,
    "start_time": "2023-07-08T10:34:06.507Z"
   },
   {
    "duration": 12,
    "start_time": "2023-07-08T10:34:25.274Z"
   },
   {
    "duration": 1734,
    "start_time": "2023-07-10T14:41:15.856Z"
   },
   {
    "duration": 270,
    "start_time": "2023-07-10T14:41:17.874Z"
   },
   {
    "duration": 23,
    "start_time": "2023-07-10T14:41:19.869Z"
   },
   {
    "duration": 18,
    "start_time": "2023-07-10T14:41:39.167Z"
   },
   {
    "duration": 10,
    "start_time": "2023-07-10T14:41:43.954Z"
   },
   {
    "duration": 3,
    "start_time": "2023-07-10T14:41:52.751Z"
   },
   {
    "duration": 8,
    "start_time": "2023-07-10T14:42:01.420Z"
   },
   {
    "duration": 8,
    "start_time": "2023-07-10T14:42:04.955Z"
   },
   {
    "duration": 5,
    "start_time": "2023-07-10T14:42:07.367Z"
   },
   {
    "duration": 15,
    "start_time": "2023-07-10T14:42:09.035Z"
   },
   {
    "duration": 8,
    "start_time": "2023-07-10T14:42:10.738Z"
   },
   {
    "duration": 10,
    "start_time": "2023-07-10T14:48:58.635Z"
   },
   {
    "duration": 116,
    "start_time": "2023-07-10T14:49:18.280Z"
   },
   {
    "duration": 23,
    "start_time": "2023-07-10T14:49:27.215Z"
   },
   {
    "duration": 228,
    "start_time": "2023-07-10T14:49:49.844Z"
   },
   {
    "duration": 19,
    "start_time": "2023-07-10T14:49:52.254Z"
   },
   {
    "duration": 1524,
    "start_time": "2023-07-10T14:50:26.878Z"
   },
   {
    "duration": 42,
    "start_time": "2023-07-10T14:50:29.250Z"
   },
   {
    "duration": 28,
    "start_time": "2023-07-10T14:50:30.026Z"
   },
   {
    "duration": 14,
    "start_time": "2023-07-10T14:50:30.939Z"
   },
   {
    "duration": 8,
    "start_time": "2023-07-10T14:50:35.662Z"
   },
   {
    "duration": 5,
    "start_time": "2023-07-10T14:50:39.048Z"
   },
   {
    "duration": 10,
    "start_time": "2023-07-10T14:50:39.890Z"
   },
   {
    "duration": 9,
    "start_time": "2023-07-10T14:50:44.534Z"
   },
   {
    "duration": 19,
    "start_time": "2023-07-10T14:50:45.828Z"
   },
   {
    "duration": 6,
    "start_time": "2023-07-10T14:50:46.745Z"
   },
   {
    "duration": 5,
    "start_time": "2023-07-10T14:50:53.592Z"
   },
   {
    "duration": 7,
    "start_time": "2023-07-10T14:50:54.440Z"
   },
   {
    "duration": 12,
    "start_time": "2023-07-10T14:50:54.993Z"
   },
   {
    "duration": 10,
    "start_time": "2023-07-10T14:51:04.687Z"
   },
   {
    "duration": 17,
    "start_time": "2023-07-10T14:51:09.034Z"
   },
   {
    "duration": 117,
    "start_time": "2023-07-10T14:53:15.164Z"
   },
   {
    "duration": 24,
    "start_time": "2023-07-10T14:53:16.404Z"
   },
   {
    "duration": 3,
    "start_time": "2023-07-10T14:53:47.296Z"
   },
   {
    "duration": 9,
    "start_time": "2023-07-10T14:53:48.856Z"
   },
   {
    "duration": 1486,
    "start_time": "2023-07-10T14:55:06.843Z"
   },
   {
    "duration": 44,
    "start_time": "2023-07-10T14:55:08.331Z"
   },
   {
    "duration": 20,
    "start_time": "2023-07-10T14:55:09.461Z"
   },
   {
    "duration": 15,
    "start_time": "2023-07-10T14:55:09.949Z"
   },
   {
    "duration": 8,
    "start_time": "2023-07-10T14:55:11.882Z"
   },
   {
    "duration": 3,
    "start_time": "2023-07-10T14:55:12.938Z"
   },
   {
    "duration": 7,
    "start_time": "2023-07-10T14:55:14.482Z"
   },
   {
    "duration": 5,
    "start_time": "2023-07-10T14:55:15.002Z"
   },
   {
    "duration": 14,
    "start_time": "2023-07-10T14:55:15.669Z"
   },
   {
    "duration": 6,
    "start_time": "2023-07-10T14:55:16.146Z"
   },
   {
    "duration": 3,
    "start_time": "2023-07-10T14:55:26.566Z"
   },
   {
    "duration": 21,
    "start_time": "2023-07-10T14:55:27.710Z"
   },
   {
    "duration": 12,
    "start_time": "2023-07-10T14:55:39.180Z"
   },
   {
    "duration": 128,
    "start_time": "2023-07-10T14:56:22.181Z"
   },
   {
    "duration": 5,
    "start_time": "2023-07-10T15:04:20.133Z"
   },
   {
    "duration": 18,
    "start_time": "2023-07-10T15:04:21.790Z"
   },
   {
    "duration": 1638,
    "start_time": "2023-07-10T15:06:28.644Z"
   },
   {
    "duration": 55,
    "start_time": "2023-07-10T15:06:30.284Z"
   },
   {
    "duration": 18,
    "start_time": "2023-07-10T15:06:30.350Z"
   },
   {
    "duration": 21,
    "start_time": "2023-07-10T15:06:30.634Z"
   },
   {
    "duration": 7,
    "start_time": "2023-07-10T15:06:38.450Z"
   },
   {
    "duration": 4,
    "start_time": "2023-07-10T15:06:39.761Z"
   },
   {
    "duration": 7,
    "start_time": "2023-07-10T15:06:40.559Z"
   },
   {
    "duration": 5,
    "start_time": "2023-07-10T15:06:42.381Z"
   },
   {
    "duration": 12,
    "start_time": "2023-07-10T15:06:43.192Z"
   },
   {
    "duration": 6,
    "start_time": "2023-07-10T15:06:43.662Z"
   },
   {
    "duration": 4,
    "start_time": "2023-07-10T15:06:46.583Z"
   },
   {
    "duration": 2,
    "start_time": "2023-07-10T15:06:47.162Z"
   },
   {
    "duration": 4,
    "start_time": "2023-07-10T15:06:47.794Z"
   },
   {
    "duration": 12,
    "start_time": "2023-07-10T15:06:51.276Z"
   },
   {
    "duration": 13,
    "start_time": "2023-07-10T15:07:09.882Z"
   },
   {
    "duration": 14,
    "start_time": "2023-07-10T15:07:10.742Z"
   },
   {
    "duration": 13,
    "start_time": "2023-07-10T16:16:56.382Z"
   },
   {
    "duration": 1530,
    "start_time": "2023-07-10T16:17:11.540Z"
   },
   {
    "duration": 58,
    "start_time": "2023-07-10T16:17:13.682Z"
   },
   {
    "duration": 19,
    "start_time": "2023-07-10T16:17:14.069Z"
   },
   {
    "duration": 13,
    "start_time": "2023-07-10T16:17:15.948Z"
   },
   {
    "duration": 14,
    "start_time": "2023-07-10T16:17:17.129Z"
   },
   {
    "duration": 4,
    "start_time": "2023-07-10T16:17:19.082Z"
   },
   {
    "duration": 8,
    "start_time": "2023-07-10T16:17:19.458Z"
   },
   {
    "duration": 5,
    "start_time": "2023-07-10T16:17:20.140Z"
   },
   {
    "duration": 28,
    "start_time": "2023-07-10T16:17:21.702Z"
   },
   {
    "duration": 5,
    "start_time": "2023-07-10T16:17:22.183Z"
   },
   {
    "duration": 10,
    "start_time": "2023-07-10T16:17:23.647Z"
   },
   {
    "duration": 1834,
    "start_time": "2023-07-13T04:57:25.702Z"
   },
   {
    "duration": 1646,
    "start_time": "2023-07-13T04:57:53.897Z"
   },
   {
    "duration": 15,
    "start_time": "2023-07-13T04:59:25.934Z"
   },
   {
    "duration": 4942,
    "start_time": "2023-07-13T04:59:49.236Z"
   },
   {
    "duration": 17,
    "start_time": "2023-07-13T05:00:12.566Z"
   },
   {
    "duration": 14,
    "start_time": "2023-07-13T05:00:19.117Z"
   },
   {
    "duration": 5021,
    "start_time": "2023-07-13T05:00:32.014Z"
   },
   {
    "duration": 5,
    "start_time": "2023-07-13T05:02:13.118Z"
   },
   {
    "duration": 91,
    "start_time": "2023-07-13T05:02:29.822Z"
   },
   {
    "duration": 33,
    "start_time": "2023-07-13T05:02:35.383Z"
   },
   {
    "duration": 22,
    "start_time": "2023-07-13T05:02:47.759Z"
   },
   {
    "duration": 8,
    "start_time": "2023-07-13T05:03:05.096Z"
   },
   {
    "duration": 4,
    "start_time": "2023-07-13T05:03:13.725Z"
   },
   {
    "duration": 12,
    "start_time": "2023-07-13T05:03:15.784Z"
   },
   {
    "duration": 49,
    "start_time": "2023-07-13T05:03:40.059Z"
   },
   {
    "duration": 6,
    "start_time": "2023-07-13T05:04:23.590Z"
   },
   {
    "duration": 7,
    "start_time": "2023-07-13T05:04:25.646Z"
   },
   {
    "duration": 5,
    "start_time": "2023-07-13T05:05:14.831Z"
   },
   {
    "duration": 4,
    "start_time": "2023-07-13T05:05:31.239Z"
   },
   {
    "duration": 15,
    "start_time": "2023-07-13T05:05:42.917Z"
   },
   {
    "duration": 6,
    "start_time": "2023-07-13T05:06:06.084Z"
   },
   {
    "duration": 13,
    "start_time": "2023-07-13T05:08:39.801Z"
   },
   {
    "duration": 19,
    "start_time": "2023-07-13T05:08:40.769Z"
   },
   {
    "duration": 5,
    "start_time": "2023-07-13T05:08:56.017Z"
   },
   {
    "duration": 5,
    "start_time": "2023-07-13T05:10:53.943Z"
   },
   {
    "duration": 18,
    "start_time": "2023-07-13T05:11:24.555Z"
   },
   {
    "duration": 33,
    "start_time": "2023-07-13T05:12:08.991Z"
   },
   {
    "duration": 18,
    "start_time": "2023-07-13T05:14:03.770Z"
   },
   {
    "duration": 4,
    "start_time": "2023-07-13T05:14:31.085Z"
   },
   {
    "duration": 3,
    "start_time": "2023-07-13T05:14:34.404Z"
   },
   {
    "duration": 29,
    "start_time": "2023-07-13T05:14:44.090Z"
   },
   {
    "duration": 3,
    "start_time": "2023-07-13T05:15:15.153Z"
   },
   {
    "duration": 2161,
    "start_time": "2023-07-13T05:15:53.156Z"
   },
   {
    "duration": 398,
    "start_time": "2023-07-13T05:16:37.700Z"
   },
   {
    "duration": 572,
    "start_time": "2023-07-13T05:21:56.036Z"
   },
   {
    "duration": 622,
    "start_time": "2023-07-13T05:22:51.492Z"
   },
   {
    "duration": 359,
    "start_time": "2023-07-13T05:23:23.452Z"
   },
   {
    "duration": 421,
    "start_time": "2023-07-13T05:26:37.685Z"
   },
   {
    "duration": 14,
    "start_time": "2023-07-13T05:27:08.090Z"
   },
   {
    "duration": 13,
    "start_time": "2023-07-13T05:34:36.484Z"
   },
   {
    "duration": 169,
    "start_time": "2023-07-13T05:36:48.398Z"
   },
   {
    "duration": 437,
    "start_time": "2023-07-13T05:46:56.799Z"
   },
   {
    "duration": 584,
    "start_time": "2023-07-13T10:49:46.124Z"
   },
   {
    "duration": 368,
    "start_time": "2023-07-13T10:54:37.854Z"
   },
   {
    "duration": 438,
    "start_time": "2023-07-13T11:12:57.470Z"
   },
   {
    "duration": 6544,
    "start_time": "2023-07-14T17:19:20.837Z"
   },
   {
    "duration": 1927,
    "start_time": "2023-07-14T17:19:55.691Z"
   },
   {
    "duration": 3,
    "start_time": "2023-07-14T17:19:57.620Z"
   },
   {
    "duration": 363,
    "start_time": "2023-07-14T17:20:01.112Z"
   },
   {
    "duration": 27,
    "start_time": "2023-07-14T17:20:03.633Z"
   },
   {
    "duration": 14,
    "start_time": "2023-07-14T17:20:07.548Z"
   },
   {
    "duration": 83,
    "start_time": "2023-07-14T17:20:13.631Z"
   },
   {
    "duration": 11,
    "start_time": "2023-07-14T17:20:15.804Z"
   },
   {
    "duration": 5,
    "start_time": "2023-07-14T17:20:18.048Z"
   },
   {
    "duration": 8,
    "start_time": "2023-07-14T17:20:20.117Z"
   },
   {
    "duration": 13,
    "start_time": "2023-07-14T17:20:21.014Z"
   },
   {
    "duration": 6,
    "start_time": "2023-07-14T17:20:22.309Z"
   },
   {
    "duration": 5,
    "start_time": "2023-07-14T17:20:24.224Z"
   },
   {
    "duration": 4,
    "start_time": "2023-07-14T17:20:24.731Z"
   },
   {
    "duration": 21,
    "start_time": "2023-07-14T17:20:25.556Z"
   },
   {
    "duration": 6,
    "start_time": "2023-07-14T17:20:27.545Z"
   },
   {
    "duration": 10,
    "start_time": "2023-07-14T17:22:40.716Z"
   },
   {
    "duration": 12,
    "start_time": "2023-07-14T17:22:41.245Z"
   },
   {
    "duration": 6,
    "start_time": "2023-07-14T17:22:43.648Z"
   },
   {
    "duration": 4,
    "start_time": "2023-07-14T17:22:46.764Z"
   },
   {
    "duration": 14,
    "start_time": "2023-07-14T17:22:52.138Z"
   },
   {
    "duration": 27,
    "start_time": "2023-07-14T17:23:10.010Z"
   },
   {
    "duration": 2023,
    "start_time": "2023-07-14T17:23:18.446Z"
   },
   {
    "duration": 1940,
    "start_time": "2023-07-14T17:24:07.234Z"
   },
   {
    "duration": 291,
    "start_time": "2023-07-14T17:25:40.891Z"
   },
   {
    "duration": 2017,
    "start_time": "2023-07-14T17:26:16.253Z"
   },
   {
    "duration": 108,
    "start_time": "2023-07-14T17:26:24.660Z"
   },
   {
    "duration": 4362,
    "start_time": "2023-07-14T17:27:10.087Z"
   },
   {
    "duration": 1476,
    "start_time": "2023-07-14T17:27:17.842Z"
   },
   {
    "duration": 3,
    "start_time": "2023-07-14T17:27:19.320Z"
   },
   {
    "duration": 40,
    "start_time": "2023-07-14T17:27:19.472Z"
   },
   {
    "duration": 19,
    "start_time": "2023-07-14T17:27:19.967Z"
   },
   {
    "duration": 14,
    "start_time": "2023-07-14T17:27:23.353Z"
   },
   {
    "duration": 57,
    "start_time": "2023-07-14T17:27:26.207Z"
   },
   {
    "duration": 8,
    "start_time": "2023-07-14T17:27:27.430Z"
   },
   {
    "duration": 4,
    "start_time": "2023-07-14T17:27:28.796Z"
   },
   {
    "duration": 10,
    "start_time": "2023-07-14T17:27:30.802Z"
   },
   {
    "duration": 12,
    "start_time": "2023-07-14T17:27:31.992Z"
   },
   {
    "duration": 5,
    "start_time": "2023-07-14T17:27:33.350Z"
   },
   {
    "duration": 4,
    "start_time": "2023-07-14T17:27:36.167Z"
   },
   {
    "duration": 4,
    "start_time": "2023-07-14T17:27:36.709Z"
   },
   {
    "duration": 14,
    "start_time": "2023-07-14T17:27:38.087Z"
   },
   {
    "duration": 4,
    "start_time": "2023-07-14T17:27:39.186Z"
   },
   {
    "duration": 12,
    "start_time": "2023-07-14T17:27:44.128Z"
   },
   {
    "duration": 13,
    "start_time": "2023-07-14T17:27:44.908Z"
   },
   {
    "duration": 5,
    "start_time": "2023-07-14T17:27:47.059Z"
   },
   {
    "duration": 4,
    "start_time": "2023-07-14T17:27:49.843Z"
   },
   {
    "duration": 15,
    "start_time": "2023-07-14T17:27:51.446Z"
   },
   {
    "duration": 28,
    "start_time": "2023-07-14T17:27:58.400Z"
   },
   {
    "duration": 2009,
    "start_time": "2023-07-14T17:28:02.974Z"
   },
   {
    "duration": 320,
    "start_time": "2023-07-14T17:28:09.126Z"
   },
   {
    "duration": 6,
    "start_time": "2023-07-14T17:29:37.467Z"
   },
   {
    "duration": 417,
    "start_time": "2023-07-14T17:29:47.700Z"
   },
   {
    "duration": 560,
    "start_time": "2023-07-14T17:29:53.739Z"
   },
   {
    "duration": 659,
    "start_time": "2023-07-14T17:29:56.529Z"
   },
   {
    "duration": 396,
    "start_time": "2023-07-14T17:30:03.871Z"
   },
   {
    "duration": 489,
    "start_time": "2023-07-14T17:36:22.488Z"
   },
   {
    "duration": 702,
    "start_time": "2023-07-14T17:36:26.966Z"
   },
   {
    "duration": 335,
    "start_time": "2023-07-14T17:36:32.342Z"
   },
   {
    "duration": 8,
    "start_time": "2023-07-14T17:39:09.886Z"
   },
   {
    "duration": 23,
    "start_time": "2023-07-14T17:39:39.060Z"
   },
   {
    "duration": 26,
    "start_time": "2023-07-14T17:40:08.818Z"
   },
   {
    "duration": 22,
    "start_time": "2023-07-14T17:43:58.315Z"
   },
   {
    "duration": 359,
    "start_time": "2023-07-14T17:47:02.265Z"
   },
   {
    "duration": 162,
    "start_time": "2023-07-14T17:47:05.754Z"
   },
   {
    "duration": 4376,
    "start_time": "2023-07-14T17:48:21.475Z"
   },
   {
    "duration": 1394,
    "start_time": "2023-07-14T17:48:25.854Z"
   },
   {
    "duration": 5,
    "start_time": "2023-07-14T17:48:30.889Z"
   },
   {
    "duration": 3,
    "start_time": "2023-07-14T17:48:32.462Z"
   },
   {
    "duration": 42,
    "start_time": "2023-07-14T17:48:32.867Z"
   },
   {
    "duration": 18,
    "start_time": "2023-07-14T17:48:33.307Z"
   },
   {
    "duration": 12,
    "start_time": "2023-07-14T17:48:34.914Z"
   },
   {
    "duration": 42,
    "start_time": "2023-07-14T17:48:37.383Z"
   },
   {
    "duration": 11,
    "start_time": "2023-07-14T17:48:37.865Z"
   },
   {
    "duration": 4,
    "start_time": "2023-07-14T17:48:40.043Z"
   },
   {
    "duration": 7,
    "start_time": "2023-07-14T17:48:40.490Z"
   },
   {
    "duration": 11,
    "start_time": "2023-07-14T17:48:42.897Z"
   },
   {
    "duration": 5,
    "start_time": "2023-07-14T17:48:43.751Z"
   },
   {
    "duration": 4,
    "start_time": "2023-07-14T17:48:44.365Z"
   },
   {
    "duration": 3,
    "start_time": "2023-07-14T17:48:44.813Z"
   },
   {
    "duration": 13,
    "start_time": "2023-07-14T17:48:45.262Z"
   },
   {
    "duration": 4,
    "start_time": "2023-07-14T17:48:45.904Z"
   },
   {
    "duration": 10,
    "start_time": "2023-07-14T17:48:50.297Z"
   },
   {
    "duration": 13,
    "start_time": "2023-07-14T17:48:50.929Z"
   },
   {
    "duration": 4,
    "start_time": "2023-07-14T17:48:51.876Z"
   },
   {
    "duration": 4,
    "start_time": "2023-07-14T17:48:58.451Z"
   },
   {
    "duration": 17,
    "start_time": "2023-07-14T17:48:59.329Z"
   },
   {
    "duration": 26,
    "start_time": "2023-07-14T17:49:01.870Z"
   },
   {
    "duration": 1912,
    "start_time": "2023-07-14T17:49:06.161Z"
   },
   {
    "duration": 1874,
    "start_time": "2023-07-14T17:49:38.200Z"
   },
   {
    "duration": 320,
    "start_time": "2023-07-14T17:49:45.200Z"
   },
   {
    "duration": 448,
    "start_time": "2023-07-14T17:50:34.529Z"
   },
   {
    "duration": 666,
    "start_time": "2023-07-14T17:50:39.703Z"
   },
   {
    "duration": 284,
    "start_time": "2023-07-14T17:50:46.293Z"
   },
   {
    "duration": 20,
    "start_time": "2023-07-14T17:50:50.116Z"
   },
   {
    "duration": 355,
    "start_time": "2023-07-14T17:51:01.979Z"
   },
   {
    "duration": 142,
    "start_time": "2023-07-14T17:51:04.717Z"
   },
   {
    "duration": 4363,
    "start_time": "2023-07-14T19:41:39.983Z"
   },
   {
    "duration": 5,
    "start_time": "2023-07-14T19:41:48.868Z"
   },
   {
    "duration": 3,
    "start_time": "2023-07-14T19:41:49.227Z"
   },
   {
    "duration": 50,
    "start_time": "2023-07-14T19:41:51.041Z"
   },
   {
    "duration": 13,
    "start_time": "2023-07-14T19:41:51.742Z"
   },
   {
    "duration": 14,
    "start_time": "2023-07-14T19:41:52.306Z"
   },
   {
    "duration": 38,
    "start_time": "2023-07-14T19:41:54.699Z"
   },
   {
    "duration": 7,
    "start_time": "2023-07-14T19:41:56.696Z"
   },
   {
    "duration": 3,
    "start_time": "2023-07-14T19:41:59.612Z"
   },
   {
    "duration": 8,
    "start_time": "2023-07-14T19:42:03.140Z"
   },
   {
    "duration": 12,
    "start_time": "2023-07-14T19:42:05.357Z"
   },
   {
    "duration": 5,
    "start_time": "2023-07-14T19:42:06.381Z"
   },
   {
    "duration": 5,
    "start_time": "2023-07-14T19:42:06.954Z"
   },
   {
    "duration": 4,
    "start_time": "2023-07-14T19:42:10.453Z"
   },
   {
    "duration": 11,
    "start_time": "2023-07-14T19:42:11.479Z"
   },
   {
    "duration": 4,
    "start_time": "2023-07-14T19:42:11.822Z"
   },
   {
    "duration": 10,
    "start_time": "2023-07-14T19:42:21.627Z"
   },
   {
    "duration": 13,
    "start_time": "2023-07-14T19:42:24.414Z"
   },
   {
    "duration": 5,
    "start_time": "2023-07-14T19:42:25.811Z"
   },
   {
    "duration": 4,
    "start_time": "2023-07-14T19:42:28.340Z"
   },
   {
    "duration": 15,
    "start_time": "2023-07-14T19:42:28.995Z"
   },
   {
    "duration": 26,
    "start_time": "2023-07-14T19:42:43.150Z"
   },
   {
    "duration": 1959,
    "start_time": "2023-07-14T19:42:52.014Z"
   },
   {
    "duration": 318,
    "start_time": "2023-07-14T19:42:58.586Z"
   },
   {
    "duration": 6,
    "start_time": "2023-07-14T20:16:50.861Z"
   },
   {
    "duration": 81,
    "start_time": "2023-07-14T20:17:39.468Z"
   },
   {
    "duration": 1124,
    "start_time": "2023-07-14T20:21:08.355Z"
   },
   {
    "duration": 11,
    "start_time": "2023-07-14T20:25:18.247Z"
   },
   {
    "duration": 993,
    "start_time": "2023-07-14T20:25:28.242Z"
   },
   {
    "duration": 190,
    "start_time": "2023-07-14T20:25:33.170Z"
   },
   {
    "duration": 9,
    "start_time": "2023-07-14T20:55:28.728Z"
   },
   {
    "duration": 110,
    "start_time": "2023-07-14T20:55:46.488Z"
   },
   {
    "duration": 99,
    "start_time": "2023-07-14T20:55:51.739Z"
   },
   {
    "duration": 115,
    "start_time": "2023-07-14T20:56:05.324Z"
   },
   {
    "duration": 105,
    "start_time": "2023-07-14T20:56:16.934Z"
   },
   {
    "duration": 10,
    "start_time": "2023-07-14T20:56:21.162Z"
   },
   {
    "duration": 109,
    "start_time": "2023-07-14T20:56:35.711Z"
   },
   {
    "duration": 9,
    "start_time": "2023-07-14T20:57:09.526Z"
   },
   {
    "duration": 997,
    "start_time": "2023-07-14T20:57:41.356Z"
   },
   {
    "duration": 10,
    "start_time": "2023-07-14T20:57:52.440Z"
   },
   {
    "duration": 91,
    "start_time": "2023-07-14T20:58:35.918Z"
   },
   {
    "duration": 94,
    "start_time": "2023-07-14T20:59:06.621Z"
   },
   {
    "duration": 95,
    "start_time": "2023-07-14T20:59:12.135Z"
   },
   {
    "duration": 91,
    "start_time": "2023-07-14T20:59:23.708Z"
   },
   {
    "duration": 90,
    "start_time": "2023-07-14T20:59:27.483Z"
   },
   {
    "duration": 76,
    "start_time": "2023-07-14T20:59:46.561Z"
   },
   {
    "duration": 1099,
    "start_time": "2023-07-14T22:00:42.366Z"
   },
   {
    "duration": 1280,
    "start_time": "2023-07-14T22:01:06.198Z"
   },
   {
    "duration": 4062,
    "start_time": "2023-07-14T22:01:43.746Z"
   },
   {
    "duration": 4,
    "start_time": "2023-07-14T22:01:47.811Z"
   },
   {
    "duration": 3,
    "start_time": "2023-07-14T22:01:48.750Z"
   },
   {
    "duration": 43,
    "start_time": "2023-07-14T22:01:58.623Z"
   },
   {
    "duration": 15,
    "start_time": "2023-07-14T22:02:00.299Z"
   },
   {
    "duration": 13,
    "start_time": "2023-07-14T22:02:02.307Z"
   },
   {
    "duration": 37,
    "start_time": "2023-07-14T22:02:06.352Z"
   },
   {
    "duration": 7,
    "start_time": "2023-07-14T22:02:10.138Z"
   },
   {
    "duration": 8,
    "start_time": "2023-07-14T22:02:23.846Z"
   },
   {
    "duration": 8,
    "start_time": "2023-07-14T22:03:41.343Z"
   },
   {
    "duration": 4,
    "start_time": "2023-07-14T22:23:29.620Z"
   },
   {
    "duration": 8,
    "start_time": "2023-07-14T22:23:31.153Z"
   },
   {
    "duration": 12,
    "start_time": "2023-07-14T22:23:39.233Z"
   },
   {
    "duration": 4,
    "start_time": "2023-07-14T22:23:40.764Z"
   },
   {
    "duration": 4,
    "start_time": "2023-07-14T22:23:44.198Z"
   },
   {
    "duration": 3,
    "start_time": "2023-07-14T22:23:46.250Z"
   },
   {
    "duration": 12,
    "start_time": "2023-07-14T22:23:46.652Z"
   },
   {
    "duration": 4,
    "start_time": "2023-07-14T22:23:47.631Z"
   },
   {
    "duration": 9,
    "start_time": "2023-07-14T22:23:58.354Z"
   },
   {
    "duration": 12,
    "start_time": "2023-07-14T22:24:01.497Z"
   },
   {
    "duration": 4,
    "start_time": "2023-07-14T22:24:03.257Z"
   },
   {
    "duration": 5,
    "start_time": "2023-07-14T22:24:05.449Z"
   },
   {
    "duration": 15,
    "start_time": "2023-07-14T22:24:07.039Z"
   },
   {
    "duration": 30,
    "start_time": "2023-07-14T22:24:15.050Z"
   },
   {
    "duration": 1869,
    "start_time": "2023-07-14T22:24:23.104Z"
   },
   {
    "duration": 315,
    "start_time": "2023-07-14T22:24:26.792Z"
   },
   {
    "duration": 97,
    "start_time": "2023-07-14T22:24:35.542Z"
   },
   {
    "duration": 472,
    "start_time": "2023-07-14T22:24:45.105Z"
   },
   {
    "duration": 683,
    "start_time": "2023-07-14T22:24:51.092Z"
   },
   {
    "duration": 369,
    "start_time": "2023-07-14T22:24:55.500Z"
   },
   {
    "duration": 13,
    "start_time": "2023-07-14T22:31:29.996Z"
   },
   {
    "duration": 14,
    "start_time": "2023-07-14T22:32:02.556Z"
   },
   {
    "duration": 218,
    "start_time": "2023-07-14T22:32:35.250Z"
   },
   {
    "duration": 61,
    "start_time": "2023-07-14T22:33:43.215Z"
   },
   {
    "duration": 42,
    "start_time": "2023-07-14T22:34:09.831Z"
   },
   {
    "duration": 82,
    "start_time": "2023-07-14T22:34:57.292Z"
   },
   {
    "duration": 18,
    "start_time": "2023-07-14T22:36:21.101Z"
   },
   {
    "duration": 41,
    "start_time": "2023-07-14T22:37:59.840Z"
   },
   {
    "duration": 13,
    "start_time": "2023-07-14T22:39:03.371Z"
   },
   {
    "duration": 493,
    "start_time": "2023-07-14T22:41:07.375Z"
   },
   {
    "duration": 19,
    "start_time": "2023-07-14T22:42:33.002Z"
   },
   {
    "duration": 374,
    "start_time": "2023-07-14T22:43:35.196Z"
   },
   {
    "duration": 16,
    "start_time": "2023-07-14T22:44:14.570Z"
   },
   {
    "duration": 4,
    "start_time": "2023-07-14T22:45:14.868Z"
   },
   {
    "duration": 3,
    "start_time": "2023-07-14T22:45:17.159Z"
   },
   {
    "duration": 40,
    "start_time": "2023-07-14T22:45:18.110Z"
   },
   {
    "duration": 13,
    "start_time": "2023-07-14T22:45:19.004Z"
   },
   {
    "duration": 11,
    "start_time": "2023-07-14T22:45:20.808Z"
   },
   {
    "duration": 36,
    "start_time": "2023-07-14T22:45:22.893Z"
   },
   {
    "duration": 7,
    "start_time": "2023-07-14T22:45:24.312Z"
   },
   {
    "duration": 2,
    "start_time": "2023-07-14T22:45:27.043Z"
   },
   {
    "duration": 9,
    "start_time": "2023-07-14T22:45:30.389Z"
   },
   {
    "duration": 4,
    "start_time": "2023-07-14T22:45:33.547Z"
   },
   {
    "duration": 7,
    "start_time": "2023-07-14T22:45:34.395Z"
   },
   {
    "duration": 11,
    "start_time": "2023-07-14T22:45:35.635Z"
   },
   {
    "duration": 5,
    "start_time": "2023-07-14T22:45:37.527Z"
   },
   {
    "duration": 4,
    "start_time": "2023-07-14T22:45:38.119Z"
   },
   {
    "duration": 4,
    "start_time": "2023-07-14T22:45:40.108Z"
   },
   {
    "duration": 12,
    "start_time": "2023-07-14T22:45:40.531Z"
   },
   {
    "duration": 4,
    "start_time": "2023-07-14T22:45:41.313Z"
   },
   {
    "duration": 9,
    "start_time": "2023-07-14T22:45:46.469Z"
   },
   {
    "duration": 11,
    "start_time": "2023-07-14T22:45:49.502Z"
   },
   {
    "duration": 3,
    "start_time": "2023-07-14T22:45:50.011Z"
   },
   {
    "duration": 5,
    "start_time": "2023-07-14T22:45:51.425Z"
   },
   {
    "duration": 13,
    "start_time": "2023-07-14T22:45:52.746Z"
   },
   {
    "duration": 27,
    "start_time": "2023-07-14T22:45:57.604Z"
   },
   {
    "duration": 1873,
    "start_time": "2023-07-14T22:46:08.995Z"
   },
   {
    "duration": 387,
    "start_time": "2023-07-14T22:46:53.013Z"
   },
   {
    "duration": 99,
    "start_time": "2023-07-14T22:47:07.642Z"
   },
   {
    "duration": 465,
    "start_time": "2023-07-14T22:47:14.310Z"
   },
   {
    "duration": 615,
    "start_time": "2023-07-14T22:47:37.765Z"
   },
   {
    "duration": 382,
    "start_time": "2023-07-14T22:47:46.895Z"
   },
   {
    "duration": 19,
    "start_time": "2023-07-14T22:47:50.752Z"
   },
   {
    "duration": 16,
    "start_time": "2023-07-14T22:47:54.367Z"
   },
   {
    "duration": 17,
    "start_time": "2023-07-14T22:48:50.097Z"
   },
   {
    "duration": 2,
    "start_time": "2023-07-14T22:49:00.905Z"
   },
   {
    "duration": 18,
    "start_time": "2023-07-14T22:49:14.246Z"
   },
   {
    "duration": 384,
    "start_time": "2023-07-14T22:54:29.962Z"
   },
   {
    "duration": 441,
    "start_time": "2023-07-14T22:56:46.738Z"
   },
   {
    "duration": 323,
    "start_time": "2023-07-14T22:57:54.380Z"
   },
   {
    "duration": 233,
    "start_time": "2023-07-14T23:00:46.401Z"
   },
   {
    "duration": 329,
    "start_time": "2023-07-14T23:02:18.164Z"
   },
   {
    "duration": 331,
    "start_time": "2023-07-14T23:03:56.841Z"
   },
   {
    "duration": 348,
    "start_time": "2023-07-14T23:06:33.798Z"
   },
   {
    "duration": 348,
    "start_time": "2023-07-14T23:09:47.083Z"
   },
   {
    "duration": 150,
    "start_time": "2023-07-14T23:09:53.998Z"
   },
   {
    "duration": 4374,
    "start_time": "2023-07-16T08:49:38.889Z"
   },
   {
    "duration": 1691,
    "start_time": "2023-07-16T08:49:43.265Z"
   },
   {
    "duration": 4,
    "start_time": "2023-07-16T08:49:44.957Z"
   },
   {
    "duration": 174,
    "start_time": "2023-07-16T08:49:44.964Z"
   },
   {
    "duration": 19,
    "start_time": "2023-07-16T08:49:52.865Z"
   },
   {
    "duration": 14,
    "start_time": "2023-07-16T08:49:53.696Z"
   },
   {
    "duration": 40,
    "start_time": "2023-07-16T08:49:57.319Z"
   },
   {
    "duration": 8,
    "start_time": "2023-07-16T08:49:58.368Z"
   },
   {
    "duration": 3,
    "start_time": "2023-07-16T08:50:00.437Z"
   },
   {
    "duration": 8,
    "start_time": "2023-07-16T08:50:01.967Z"
   },
   {
    "duration": 4,
    "start_time": "2023-07-16T08:50:06.027Z"
   },
   {
    "duration": 8,
    "start_time": "2023-07-16T08:50:06.653Z"
   },
   {
    "duration": 13,
    "start_time": "2023-07-16T08:50:07.454Z"
   },
   {
    "duration": 5,
    "start_time": "2023-07-16T08:50:09.034Z"
   },
   {
    "duration": 4,
    "start_time": "2023-07-16T08:50:09.646Z"
   },
   {
    "duration": 3,
    "start_time": "2023-07-16T08:50:10.736Z"
   },
   {
    "duration": 13,
    "start_time": "2023-07-16T08:50:11.372Z"
   },
   {
    "duration": 4,
    "start_time": "2023-07-16T08:50:13.017Z"
   },
   {
    "duration": 12,
    "start_time": "2023-07-16T08:50:17.800Z"
   },
   {
    "duration": 23,
    "start_time": "2023-07-16T08:50:20.659Z"
   },
   {
    "duration": 4,
    "start_time": "2023-07-16T08:50:21.974Z"
   },
   {
    "duration": 5,
    "start_time": "2023-07-16T08:50:23.549Z"
   },
   {
    "duration": 15,
    "start_time": "2023-07-16T08:50:24.892Z"
   },
   {
    "duration": 51,
    "start_time": "2023-07-16T08:50:30.917Z"
   },
   {
    "duration": 1963,
    "start_time": "2023-07-16T08:50:36.303Z"
   },
   {
    "duration": 433,
    "start_time": "2023-07-16T08:50:38.608Z"
   },
   {
    "duration": 132,
    "start_time": "2023-07-16T08:50:45.990Z"
   },
   {
    "duration": 517,
    "start_time": "2023-07-16T08:50:50.644Z"
   },
   {
    "duration": 644,
    "start_time": "2023-07-16T08:50:53.435Z"
   },
   {
    "duration": 291,
    "start_time": "2023-07-16T08:50:56.273Z"
   },
   {
    "duration": 3,
    "start_time": "2023-07-16T08:50:57.831Z"
   },
   {
    "duration": 23,
    "start_time": "2023-07-16T08:50:58.217Z"
   },
   {
    "duration": 384,
    "start_time": "2023-07-16T08:51:06.597Z"
   },
   {
    "duration": 157,
    "start_time": "2023-07-16T08:51:17.867Z"
   }
  ],
  "kernelspec": {
   "display_name": "Python 3 (ipykernel)",
   "language": "python",
   "name": "python3"
  },
  "language_info": {
   "codemirror_mode": {
    "name": "ipython",
    "version": 3
   },
   "file_extension": ".py",
   "mimetype": "text/x-python",
   "name": "python",
   "nbconvert_exporter": "python",
   "pygments_lexer": "ipython3",
   "version": "3.11.4"
  },
  "toc": {
   "base_numbering": 1,
   "nav_menu": {},
   "number_sections": true,
   "sideBar": true,
   "skip_h1_title": true,
   "title_cell": "Содержание",
   "title_sidebar": "Contents",
   "toc_cell": true,
   "toc_position": {
    "height": "calc(100% - 180px)",
    "left": "10px",
    "top": "150px",
    "width": "364.716px"
   },
   "toc_section_display": true,
   "toc_window_display": true
  }
 },
 "nbformat": 4,
 "nbformat_minor": 2
}
